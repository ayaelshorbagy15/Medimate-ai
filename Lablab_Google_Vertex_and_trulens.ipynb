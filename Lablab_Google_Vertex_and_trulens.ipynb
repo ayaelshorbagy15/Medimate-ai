{
  "cells": [
    {
      "cell_type": "markdown",
      "source": [
        "# **MediMateAI App Notebook**\n",
        "\n",
        "## Introduction\n",
        "\n",
        "Welcome to the MediMateAI notebook! This notebook is designed to showcase the functionality of the MediMateAI app, a powerful tool that utilizes Vertex AI and Google Vision to extract text from prescriptions. The app then uses this information to create reminders for users, providing details about each prescribed medicine, its side effects, and potential conflicts with medications the user is already taking.\n",
        "\n",
        "## Features\n",
        "\n",
        "### 1. Prescription Text Extraction\n",
        "\n",
        "The app employs Google Vision to extract text from prescriptions. This ensures accurate and reliable information retrieval from medical documents.\n",
        "\n",
        "### 2. Reminder Creation\n",
        "\n",
        "Based on the extracted text, the app generates reminders for each prescribed medicine. These reminders include information about dosage, timing, and other relevant details.\n",
        "\n",
        "### 3. Side Effects Information\n",
        "\n",
        "MediMateAI informs users about the potential side effects of each prescribed medicine. This empowers users with valuable knowledge about their medications.\n",
        "\n",
        "### 4. Medication Conflict Notifications\n",
        "\n",
        "The app actively checks for conflicts between newly prescribed medications and those already taken by the user. If a conflict is detected, the user is promptly notified to ensure their safety.\n",
        "\n",
        "## Getting Started\n",
        "\n",
        "To begin using the notebook, make sure you have the necessary dependencies installed. You may also need to authenticate with Google services if required. Follow the steps outlined in the code cells for a seamless experience.\n",
        "\n",
        "## Instructions\n",
        "\n",
        "1. Upload a clear image of your prescription.\n",
        "2. Run the provided code cells to extract text using Google Vision.\n",
        "3. Review the generated result, side effects information, and conflict notifications.\n",
        "\n",
        "## Important Note\n",
        "\n",
        "This notebook is for demonstration purposes and may require customization for pordiction use. Ensure that you have the required API keys, permissions, and access to Google services.\n",
        "\n",
        "Let's get started on the journey to smarter medication management with MediMateAI!\n"
      ],
      "metadata": {
        "id": "KvODj_we5eHh"
      }
    },
    {
      "cell_type": "code",
      "execution_count": 1,
      "metadata": {
        "id": "ElOM7INUHDa8",
        "colab": {
          "base_uri": "https://localhost:8080/"
        },
        "outputId": "efc53330-9d63-4590-f420-e4f976936411"
      },
      "outputs": [
        {
          "output_type": "stream",
          "name": "stdout",
          "text": [
            "\u001b[2K     \u001b[90m━━━━━━━━━━━━━━━━━━━━━━━━━━━━━━━━━━━━━━━━\u001b[0m \u001b[32m3.2/3.2 MB\u001b[0m \u001b[31m13.6 MB/s\u001b[0m eta \u001b[36m0:00:00\u001b[0m\n",
            "\u001b[2K     \u001b[90m━━━━━━━━━━━━━━━━━━━━━━━━━━━━━━━━━━━━━━━━\u001b[0m \u001b[32m1.5/1.5 MB\u001b[0m \u001b[31m17.4 MB/s\u001b[0m eta \u001b[36m0:00:00\u001b[0m\n",
            "\u001b[2K     \u001b[90m━━━━━━━━━━━━━━━━━━━━━━━━━━━━━━━━━━━━━━━━\u001b[0m \u001b[32m627.0/627.0 kB\u001b[0m \u001b[31m16.5 MB/s\u001b[0m eta \u001b[36m0:00:00\u001b[0m\n",
            "\u001b[2K     \u001b[90m━━━━━━━━━━━━━━━━━━━━━━━━━━━━━━━━━━━━━━━━\u001b[0m \u001b[32m2.0/2.0 MB\u001b[0m \u001b[31m19.3 MB/s\u001b[0m eta \u001b[36m0:00:00\u001b[0m\n",
            "\u001b[2K     \u001b[90m━━━━━━━━━━━━━━━━━━━━━━━━━━━━━━━━━━━━━━━━\u001b[0m \u001b[32m221.4/221.4 kB\u001b[0m \u001b[31m18.1 MB/s\u001b[0m eta \u001b[36m0:00:00\u001b[0m\n",
            "\u001b[2K     \u001b[90m━━━━━━━━━━━━━━━━━━━━━━━━━━━━━━━━━━━━━━━━\u001b[0m \u001b[32m2.0/2.0 MB\u001b[0m \u001b[31m20.2 MB/s\u001b[0m eta \u001b[36m0:00:00\u001b[0m\n",
            "\u001b[2K     \u001b[90m━━━━━━━━━━━━━━━━━━━━━━━━━━━━━━━━━━━━━━━━\u001b[0m \u001b[32m48.9/48.9 kB\u001b[0m \u001b[31m6.7 MB/s\u001b[0m eta \u001b[36m0:00:00\u001b[0m\n",
            "\u001b[2K     \u001b[90m━━━━━━━━━━━━━━━━━━━━━━━━━━━━━━━━━━━━━━━━\u001b[0m \u001b[32m521.2/521.2 kB\u001b[0m \u001b[31m20.0 MB/s\u001b[0m eta \u001b[36m0:00:00\u001b[0m\n",
            "\u001b[2K     \u001b[90m━━━━━━━━━━━━━━━━━━━━━━━━━━━━━━━━━━━━━━━━\u001b[0m \u001b[32m929.3/929.3 kB\u001b[0m \u001b[31m20.2 MB/s\u001b[0m eta \u001b[36m0:00:00\u001b[0m\n",
            "\u001b[?25h  Preparing metadata (setup.py) ... \u001b[?25l\u001b[?25hdone\n",
            "\u001b[2K     \u001b[90m━━━━━━━━━━━━━━━━━━━━━━━━━━━━━━━━━━━━━━━━\u001b[0m \u001b[32m75.0/75.0 kB\u001b[0m \u001b[31m9.8 MB/s\u001b[0m eta \u001b[36m0:00:00\u001b[0m\n",
            "\u001b[2K     \u001b[90m━━━━━━━━━━━━━━━━━━━━━━━━━━━━━━━━━━━━━━━━\u001b[0m \u001b[32m179.4/179.4 kB\u001b[0m \u001b[31m17.1 MB/s\u001b[0m eta \u001b[36m0:00:00\u001b[0m\n",
            "\u001b[2K     \u001b[90m━━━━━━━━━━━━━━━━━━━━━━━━━━━━━━━━━━━━━━━━\u001b[0m \u001b[32m194.7/194.7 kB\u001b[0m \u001b[31m17.6 MB/s\u001b[0m eta \u001b[36m0:00:00\u001b[0m\n",
            "\u001b[2K     \u001b[90m━━━━━━━━━━━━━━━━━━━━━━━━━━━━━━━━━━━━━━━━\u001b[0m \u001b[32m284.1/284.1 kB\u001b[0m \u001b[31m15.9 MB/s\u001b[0m eta \u001b[36m0:00:00\u001b[0m\n",
            "\u001b[2K     \u001b[90m━━━━━━━━━━━━━━━━━━━━━━━━━━━━━━━━━━━━━━━━\u001b[0m \u001b[32m8.4/8.4 MB\u001b[0m \u001b[31m22.6 MB/s\u001b[0m eta \u001b[36m0:00:00\u001b[0m\n",
            "\u001b[2K     \u001b[90m━━━━━━━━━━━━━━━━━━━━━━━━━━━━━━━━━━━━━━━━\u001b[0m \u001b[32m3.4/3.4 MB\u001b[0m \u001b[31m23.6 MB/s\u001b[0m eta \u001b[36m0:00:00\u001b[0m\n",
            "\u001b[2K     \u001b[90m━━━━━━━━━━━━━━━━━━━━━━━━━━━━━━━━━━━━━━━━\u001b[0m \u001b[32m66.0/66.0 kB\u001b[0m \u001b[31m8.7 MB/s\u001b[0m eta \u001b[36m0:00:00\u001b[0m\n",
            "\u001b[2K     \u001b[90m━━━━━━━━━━━━━━━━━━━━━━━━━━━━━━━━━━━━━━━━\u001b[0m \u001b[32m518.4/518.4 kB\u001b[0m \u001b[31m22.3 MB/s\u001b[0m eta \u001b[36m0:00:00\u001b[0m\n",
            "\u001b[2K     \u001b[90m━━━━━━━━━━━━━━━━━━━━━━━━━━━━━━━━━━━━━━━━\u001b[0m \u001b[32m139.4/139.4 kB\u001b[0m \u001b[31m13.1 MB/s\u001b[0m eta \u001b[36m0:00:00\u001b[0m\n",
            "\u001b[2K     \u001b[90m━━━━━━━━━━━━━━━━━━━━━━━━━━━━━━━━━━━━━━━━\u001b[0m \u001b[32m230.6/230.6 kB\u001b[0m \u001b[31m23.2 MB/s\u001b[0m eta \u001b[36m0:00:00\u001b[0m\n",
            "\u001b[2K     \u001b[90m━━━━━━━━━━━━━━━━━━━━━━━━━━━━━━━━━━━━━━━━\u001b[0m \u001b[32m181.5/181.5 kB\u001b[0m \u001b[31m19.4 MB/s\u001b[0m eta \u001b[36m0:00:00\u001b[0m\n",
            "\u001b[2K     \u001b[90m━━━━━━━━━━━━━━━━━━━━━━━━━━━━━━━━━━━━━━━━\u001b[0m \u001b[32m48.2/48.2 kB\u001b[0m \u001b[31m5.3 MB/s\u001b[0m eta \u001b[36m0:00:00\u001b[0m\n",
            "\u001b[2K     \u001b[90m━━━━━━━━━━━━━━━━━━━━━━━━━━━━━━━━━━━━━━━━\u001b[0m \u001b[32m78.6/78.6 kB\u001b[0m \u001b[31m8.1 MB/s\u001b[0m eta \u001b[36m0:00:00\u001b[0m\n",
            "\u001b[2K     \u001b[90m━━━━━━━━━━━━━━━━━━━━━━━━━━━━━━━━━━━━━━━━\u001b[0m \u001b[32m3.1/3.1 MB\u001b[0m \u001b[31m22.4 MB/s\u001b[0m eta \u001b[36m0:00:00\u001b[0m\n",
            "\u001b[2K     \u001b[90m━━━━━━━━━━━━━━━━━━━━━━━━━━━━━━━━━━━━━━━━\u001b[0m \u001b[32m49.4/49.4 kB\u001b[0m \u001b[31m5.1 MB/s\u001b[0m eta \u001b[36m0:00:00\u001b[0m\n",
            "\u001b[2K     \u001b[90m━━━━━━━━━━━━━━━━━━━━━━━━━━━━━━━━━━━━━━━━\u001b[0m \u001b[32m115.3/115.3 kB\u001b[0m \u001b[31m13.4 MB/s\u001b[0m eta \u001b[36m0:00:00\u001b[0m\n",
            "\u001b[2K     \u001b[90m━━━━━━━━━━━━━━━━━━━━━━━━━━━━━━━━━━━━━━━━\u001b[0m \u001b[32m134.8/134.8 kB\u001b[0m \u001b[31m12.4 MB/s\u001b[0m eta \u001b[36m0:00:00\u001b[0m\n",
            "\u001b[2K     \u001b[90m━━━━━━━━━━━━━━━━━━━━━━━━━━━━━━━━━━━━━━━━\u001b[0m \u001b[32m76.9/76.9 kB\u001b[0m \u001b[31m8.9 MB/s\u001b[0m eta \u001b[36m0:00:00\u001b[0m\n",
            "\u001b[2K     \u001b[90m━━━━━━━━━━━━━━━━━━━━━━━━━━━━━━━━━━━━━━━━\u001b[0m \u001b[32m58.3/58.3 kB\u001b[0m \u001b[31m3.3 MB/s\u001b[0m eta \u001b[36m0:00:00\u001b[0m\n",
            "\u001b[2K     \u001b[90m━━━━━━━━━━━━━━━━━━━━━━━━━━━━━━━━━━━━━━━━\u001b[0m \u001b[32m2.3/2.3 MB\u001b[0m \u001b[31m24.9 MB/s\u001b[0m eta \u001b[36m0:00:00\u001b[0m\n",
            "\u001b[2K     \u001b[90m━━━━━━━━━━━━━━━━━━━━━━━━━━━━━━━━━━━━━━━━\u001b[0m \u001b[32m143.0/143.0 kB\u001b[0m \u001b[31m15.8 MB/s\u001b[0m eta \u001b[36m0:00:00\u001b[0m\n",
            "\u001b[2K     \u001b[90m━━━━━━━━━━━━━━━━━━━━━━━━━━━━━━━━━━━━━━━━\u001b[0m \u001b[32m62.5/62.5 kB\u001b[0m \u001b[31m6.9 MB/s\u001b[0m eta \u001b[36m0:00:00\u001b[0m\n",
            "\u001b[2K     \u001b[90m━━━━━━━━━━━━━━━━━━━━━━━━━━━━━━━━━━━━━━━━\u001b[0m \u001b[32m300.4/300.4 kB\u001b[0m \u001b[31m32.8 MB/s\u001b[0m eta \u001b[36m0:00:00\u001b[0m\n",
            "\u001b[2K     \u001b[90m━━━━━━━━━━━━━━━━━━━━━━━━━━━━━━━━━━━━━━━━\u001b[0m \u001b[32m190.6/190.6 kB\u001b[0m \u001b[31m14.9 MB/s\u001b[0m eta \u001b[36m0:00:00\u001b[0m\n",
            "\u001b[2K     \u001b[90m━━━━━━━━━━━━━━━━━━━━━━━━━━━━━━━━━━━━━━━━\u001b[0m \u001b[32m4.8/4.8 MB\u001b[0m \u001b[31m21.6 MB/s\u001b[0m eta \u001b[36m0:00:00\u001b[0m\n",
            "\u001b[2K     \u001b[90m━━━━━━━━━━━━━━━━━━━━━━━━━━━━━━━━━━━━━━━━\u001b[0m \u001b[32m82.1/82.1 kB\u001b[0m \u001b[31m8.6 MB/s\u001b[0m eta \u001b[36m0:00:00\u001b[0m\n",
            "\u001b[2K     \u001b[90m━━━━━━━━━━━━━━━━━━━━━━━━━━━━━━━━━━━━━━━━\u001b[0m \u001b[32m680.8/680.8 kB\u001b[0m \u001b[31m30.7 MB/s\u001b[0m eta \u001b[36m0:00:00\u001b[0m\n",
            "\u001b[2K     \u001b[90m━━━━━━━━━━━━━━━━━━━━━━━━━━━━━━━━━━━━━━━━\u001b[0m \u001b[32m635.4/635.4 kB\u001b[0m \u001b[31m24.4 MB/s\u001b[0m eta \u001b[36m0:00:00\u001b[0m\n",
            "\u001b[2K     \u001b[90m━━━━━━━━━━━━━━━━━━━━━━━━━━━━━━━━━━━━━━━━\u001b[0m \u001b[32m624.3/624.3 kB\u001b[0m \u001b[31m24.6 MB/s\u001b[0m eta \u001b[36m0:00:00\u001b[0m\n",
            "\u001b[2K     \u001b[90m━━━━━━━━━━━━━━━━━━━━━━━━━━━━━━━━━━━━━━━━\u001b[0m \u001b[32m62.7/62.7 kB\u001b[0m \u001b[31m6.1 MB/s\u001b[0m eta \u001b[36m0:00:00\u001b[0m\n",
            "\u001b[2K     \u001b[90m━━━━━━━━━━━━━━━━━━━━━━━━━━━━━━━━━━━━━━━━\u001b[0m \u001b[32m1.6/1.6 MB\u001b[0m \u001b[31m30.1 MB/s\u001b[0m eta \u001b[36m0:00:00\u001b[0m\n",
            "\u001b[2K     \u001b[90m━━━━━━━━━━━━━━━━━━━━━━━━━━━━━━━━━━━━━━━━\u001b[0m \u001b[32m241.1/241.1 kB\u001b[0m \u001b[31m24.4 MB/s\u001b[0m eta \u001b[36m0:00:00\u001b[0m\n",
            "\u001b[2K     \u001b[90m━━━━━━━━━━━━━━━━━━━━━━━━━━━━━━━━━━━━━━━━\u001b[0m \u001b[32m1.7/1.7 MB\u001b[0m \u001b[31m30.4 MB/s\u001b[0m eta \u001b[36m0:00:00\u001b[0m\n",
            "\u001b[?25h  Building wheel for millify (setup.py) ... \u001b[?25l\u001b[?25hdone\n",
            "\u001b[2K     \u001b[90m━━━━━━━━━━━━━━━━━━━━━━━━━━━━━━━━━━━━━━━━\u001b[0m \u001b[32m442.1/442.1 kB\u001b[0m \u001b[31m8.1 MB/s\u001b[0m eta \u001b[36m0:00:00\u001b[0m\n",
            "\u001b[2K     \u001b[90m━━━━━━━━━━━━━━━━━━━━━━━━━━━━━━━━━━━━━━━━\u001b[0m \u001b[32m297.6/297.6 kB\u001b[0m \u001b[31m6.1 MB/s\u001b[0m eta \u001b[36m0:00:00\u001b[0m\n",
            "\u001b[2K     \u001b[90m━━━━━━━━━━━━━━━━━━━━━━━━━━━━━━━━━━━━━━━━\u001b[0m \u001b[32m17.6/17.6 MB\u001b[0m \u001b[31m51.5 MB/s\u001b[0m eta \u001b[36m0:00:00\u001b[0m\n",
            "\u001b[?25h"
          ]
        }
      ],
      "source": [
        "! pip install -q google-cloud-aiplatform==1.36.3 litellm==1.11.1 trulens_eval==0.18.3 langchain==0.0.347\n",
        "!pip install -q google-cloud-vision\n",
        "!pip install -q --upgrade google-cloud-documentai\n",
        "!pip install -q faiss-cpu tiktoken\n",
        "!pip install huggingface -q"
      ]
    },
    {
      "cell_type": "code",
      "execution_count": null,
      "metadata": {
        "id": "vXscPclMwQ3h"
      },
      "outputs": [],
      "source": [
        "from google.oauth2 import service_account\n",
        "from IPython.display import JSON\n",
        "# Imports main tools:\n",
        "from trulens_eval import TruChain, Feedback, Tru, LiteLLM\n",
        "import os\n",
        "import pandas as pd\n",
        "import numpy as np\n",
        "from dotenv import load_dotenv\n",
        "import json\n",
        "from google.api_core.client_options import ClientOptions\n",
        "from google.cloud import documentai\n",
        "from langchain.chains import LLMChain\n",
        "from langchain.llms import VertexAI\n",
        "from langchain.prompts import PromptTemplate\n",
        "from langchain.prompts.chat import HumanMessagePromptTemplate, ChatPromptTemplate\n",
        "from google.cloud import aiplatform\n",
        "from langchain.embeddings import VertexAIEmbeddings\n",
        "from langchain.text_splitter import CharacterTextSplitter\n",
        "from langchain.vectorstores import Chroma\n",
        "from langchain.vectorstores import FAISS\n",
        "from vertexai.language_models import TextEmbeddingModel\n",
        "import base64\n",
        "from google.auth.transport.requests import Request\n",
        "from google.oauth2.service_account import Credentials\n",
        "import functools\n",
        "import time\n",
        "from concurrent.futures import ThreadPoolExecutor\n",
        "from tqdm.auto import tqdm\n",
        "import math\n",
        "from vertexai.language_models import TextEmbeddingModel\n",
        "import numpy as np\n",
        "from sklearn.metrics.pairwise import cosine_similarity\n",
        "from IPython.display import Markdown, display\n",
        "from langchain.document_loaders import TextLoader\n",
        "from langchain.text_splitter import CharacterTextSplitter\n",
        "from langchain.vectorstores import Chroma\n",
        "\n",
        "\n"
      ]
    },
    {
      "cell_type": "markdown",
      "source": [
        "## Init Trulens"
      ],
      "metadata": {
        "id": "0iAItgif61uq"
      }
    },
    {
      "cell_type": "code",
      "execution_count": null,
      "metadata": {
        "id": "POoXL1dvIRqd"
      },
      "outputs": [],
      "source": [
        "tru = Tru()\n",
        "tru.reset_database()\n"
      ]
    },
    {
      "cell_type": "markdown",
      "source": [
        "**Load GCP credentials**"
      ],
      "metadata": {
        "id": "12cXhtee7C4Y"
      }
    },
    {
      "cell_type": "code",
      "execution_count": null,
      "metadata": {
        "id": "aHpRiFuKIfI_"
      },
      "outputs": [],
      "source": [
        "credentials = service_account.Credentials.from_service_account_file(\"/content/root-habitat-258913-8104543cb5cc.json\")"
      ]
    },
    {
      "cell_type": "code",
      "execution_count": null,
      "metadata": {
        "id": "61qIOxPTN081"
      },
      "outputs": [],
      "source": [
        "aiplatform.init(credentials=credentials, project=credentials.project_id)"
      ]
    },
    {
      "cell_type": "markdown",
      "source": [
        "**OCR Prescription**"
      ],
      "metadata": {
        "id": "to9Sw_D97JBv"
      }
    },
    {
      "cell_type": "code",
      "execution_count": null,
      "metadata": {
        "id": "Fi_fcSZeJMlk"
      },
      "outputs": [],
      "source": [
        "def process_prescription(\n",
        "    project_id: str,\n",
        "    location: str,\n",
        "    processor_id: str,\n",
        "    file_path: str,\n",
        "    mime_type: str,\n",
        "    field_mask = None,\n",
        "    processor_version_id= None,\n",
        ") -> str:\n",
        "    opts = ClientOptions(api_endpoint=f\"{location}-documentai.googleapis.com\")\n",
        "\n",
        "    client = documentai.DocumentProcessorServiceClient(client_options=opts, credentials= credentials)\n",
        "\n",
        "    if processor_version_id:\n",
        "        name = client.processor_version_path(\n",
        "            project_id, location, processor_id, processor_version_id\n",
        "        )\n",
        "    else:\n",
        "\n",
        "        name = client.processor_path(project_id, location, processor_id)\n",
        "\n",
        "    # Read the file into memory\n",
        "    with open(file_path, \"rb\") as image:\n",
        "        image_content = image.read()\n",
        "\n",
        "    # Load binary data\n",
        "    raw_document = documentai.RawDocument(content=image_content, mime_type=mime_type)\n",
        "    process_options = documentai.ProcessOptions(\n",
        "        individual_page_selector=documentai.ProcessOptions.IndividualPageSelector(\n",
        "            pages=[1]\n",
        "        )\n",
        "    )\n",
        "\n",
        "    request = documentai.ProcessRequest(\n",
        "        name=name,\n",
        "        raw_document=raw_document,\n",
        "        field_mask=field_mask,\n",
        "        process_options=process_options,\n",
        "    )\n",
        "\n",
        "    result = client.process_document(request=request)\n",
        "    document = result.document\n",
        "\n",
        "\n",
        "    return document.text\n"
      ]
    },
    {
      "cell_type": "code",
      "execution_count": null,
      "metadata": {
        "colab": {
          "base_uri": "https://localhost:8080/"
        },
        "id": "oErKhUJ9JlUB",
        "outputId": "8e55fcac-774b-4b73-9782-d4fd9faadccd"
      },
      "outputs": [
        {
          "output_type": "stream",
          "name": "stdout",
          "text": [
            "دكتـور\n",
            "معـاذ عطيتـو\n",
            "طبيب وجراح العيون والمياه البيضاء والليزك\n",
            "جامعـة الأزهـر - مستشفى الأقصر الدولي\n",
            "الإسم : أشرف أدهـم سـيف\n",
            "السـن 11\n",
            "2\n",
            "Moaz Ateto\n",
            "التاريخ : ٢٤ / ۱۱ / ۲۰۲۳م\n",
            "Lubricant Eye Drops E.D.\n",
            "قطرة 3 مرات يوميا لمدة أسبوعين\n",
            "RI\n",
            "R/Analgesic Drug TAB.\n",
            "قرص بعد الأكل مرتين يوميـا\n",
            "لمدة أسبوع \" ولا يكرر\n",
            "RI Antibiotic Eye Ointment. E.O.\n",
            "مرهــم مسـاء المـدة أسبوع )\n",
            "\n"
          ]
        }
      ],
      "source": [
        "prescription = process_prescription(\n",
        "  project_id=\"682811873214\",\n",
        "  location=\"us\",\n",
        "  processor_id=\"5b9c8c8527df3350\",\n",
        "  file_path=\"/content/images.jpeg\",\n",
        "  mime_type = 'image/jpeg'\n",
        ")\n",
        "print(prescription)"
      ]
    },
    {
      "cell_type": "markdown",
      "source": [
        "**Generate JSON Response Containing Medicine Name and Recommended Dosage**\n",
        "\n",
        "In this section, we will discuss how to use extracted text to make the JSON response that the MediMateAI app needs, which contains crucial information about prescribed medicines, including the medicine name and the recommended dosage.\n",
        "JSON Response Structure\n",
        "\n",
        "The JSON response is structured to provide clear and organized data for each prescribed medicine. It consists of two key components:\n",
        "\n",
        "    Medicine Name: Clearly identifies the name of the prescribed medicine.\n",
        "    Dosage Information: Specifies the recommended dosage and the frequency at which the medicine should be taken.\n",
        "\n"
      ],
      "metadata": {
        "id": "Bl2-FS697Ptk"
      }
    },
    {
      "cell_type": "code",
      "execution_count": null,
      "metadata": {
        "id": "cG5TbIzcMiaE"
      },
      "outputs": [],
      "source": [
        "medical_prescription_template = \"\"\"\\\n",
        "For the following text, extract the following information:\n",
        "- medicine name : list of medicine names that are mentioned in the text\n",
        "- taken number : number of times a day the medicine should be taken for each medicine name\n",
        "text: {text}\n",
        "<< FORMATTING >>\n",
        "Return a markdown code snippet with a Dict object formatted to look like:\n",
        "```{{\n",
        "    \"medicine\": \"taken_num\"}}\n",
        "    ```\n",
        "\"\"\""
      ]
    },
    {
      "cell_type": "code",
      "execution_count": null,
      "metadata": {
        "id": "GC-WtDazNCE9"
      },
      "outputs": [],
      "source": [
        "full_prompt = HumanMessagePromptTemplate(\n",
        "    prompt=PromptTemplate(\n",
        "        template=medical_prescription_template,\n",
        "        input_variables=[\"text\"],\n",
        "    )\n",
        ")\n"
      ]
    },
    {
      "cell_type": "code",
      "execution_count": null,
      "metadata": {
        "id": "4MOh1_nYNhf0"
      },
      "outputs": [],
      "source": [
        "chat_prompt_template = ChatPromptTemplate.from_messages([full_prompt])\n"
      ]
    },
    {
      "cell_type": "code",
      "execution_count": null,
      "metadata": {
        "id": "6MF-DvGEJ8wv"
      },
      "outputs": [],
      "source": [
        "chat_prompt_template = ChatPromptTemplate.from_messages([full_prompt])\n",
        "\n",
        "llm = VertexAI()\n",
        "\n",
        "chain = LLMChain(llm=llm, prompt=chat_prompt_template, verbose=True)\n",
        "\n"
      ]
    },
    {
      "cell_type": "code",
      "execution_count": null,
      "metadata": {
        "colab": {
          "base_uri": "https://localhost:8080/",
          "height": 639
        },
        "id": "533CJJPoHUPP",
        "outputId": "6d484b1d-e080-469b-eb6c-bf187de4779a"
      },
      "outputs": [
        {
          "output_type": "stream",
          "name": "stdout",
          "text": [
            "\n",
            "\n",
            "\u001b[1m> Entering new LLMChain chain...\u001b[0m\n",
            "Prompt after formatting:\n",
            "\u001b[32;1m\u001b[1;3mHuman: For the following text, extract the following information:\n",
            "- medicine name : list of medicine names that are mentioned in the text\n",
            "- taken number : number of times a day the medicine should be taken for each medicine name\n",
            "text: دكتـور\n",
            "معـاذ عطيتـو\n",
            "طبيب وجراح العيون والمياه البيضاء والليزك\n",
            "جامعـة الأزهـر - مستشفى الأقصر الدولي\n",
            "الإسم : أشرف أدهـم سـيف\n",
            "السـن 11\n",
            "2\n",
            "Moaz Ateto\n",
            "التاريخ : ٢٤ / ۱۱ / ۲۰۲۳م\n",
            "Lubricant Eye Drops E.D.\n",
            "قطرة 3 مرات يوميا لمدة أسبوعين\n",
            "RI\n",
            "R/Analgesic Drug TAB.\n",
            "قرص بعد الأكل مرتين يوميـا\n",
            "لمدة أسبوع \" ولا يكرر\n",
            "RI Antibiotic Eye Ointment. E.O.\n",
            "مرهــم مسـاء المـدة أسبوع )\n",
            "\n",
            "<< FORMATTING >>\n",
            "Return a markdown code snippet with a Dict object formatted to look like:\n",
            "```{\n",
            "    \"medicine\": \"taken_num\"}\n",
            "    ```\n",
            "\u001b[0m\n",
            "\n",
            "\u001b[1m> Finished chain.\u001b[0m\n"
          ]
        },
        {
          "output_type": "display_data",
          "data": {
            "text/plain": [
              "{'text': ' ```python\\n{\\n    \"Lubricant Eye Drops E.D.\": \"3 times a day for two weeks\",\\n    \"Analgesic Drug TAB.\": \"once after meal twice a day for a week\",\\n    \"Antibiotic Eye Ointment. E.O.\": \"once at night for a week\"\\n}\\n```'}"
            ]
          },
          "metadata": {}
        }
      ],
      "source": [
        "llm_response = chain(prescription)\n",
        "\n",
        "display(llm_response)"
      ]
    },
    {
      "cell_type": "code",
      "execution_count": null,
      "metadata": {
        "colab": {
          "base_uri": "https://localhost:8080/"
        },
        "id": "UKiKWhVOQhvJ",
        "outputId": "099fea05-6b59-42c7-de93-e749155eea74"
      },
      "outputs": [
        {
          "output_type": "execute_result",
          "data": {
            "text/plain": [
              "{'text': ' ```python\\n{\\n    \"Lubricant Eye Drops E.D.\": \"3 times a day for two weeks\",\\n    \"Analgesic Drug TAB.\": \"once after meal twice a day for a week\",\\n    \"Antibiotic Eye Ointment. E.O.\": \"once at night for a week\"\\n}\\n```'}"
            ]
          },
          "metadata": {},
          "execution_count": 289
        }
      ],
      "source": [
        "llm_response"
      ]
    },
    {
      "cell_type": "code",
      "execution_count": null,
      "metadata": {
        "id": "l10Lz8AdQnEP"
      },
      "outputs": [],
      "source": [
        "# prompt: load llm_response\"{'text': ' ```json\\n{\\n  \"medicine\": [\\n    {\\n      \"medicine_name\": \"Lubricant Eye Drops\",\\n      \"taken_num\": \"3 times a day for two weeks\"\\n    },\\n    {\\n      \"medicine_name\": \"Analgesic Drug TAB\",\\n      \"taken_num\": \"once after meal, twice a day for a week\"\\n    },\\n    {\\n      \"medicine_name\": \"Antibiotic Eye Ointment\",\\n      \"taken_num\": \"once at night for a week\"\\n    }\\n  ]\\n}\\n```'}\" into json \"\"\n",
        "uncleaned_data = llm_response[\"text\"].split('\\n')"
      ]
    },
    {
      "cell_type": "code",
      "execution_count": null,
      "metadata": {
        "colab": {
          "base_uri": "https://localhost:8080/"
        },
        "id": "9vC_ws-nRe6B",
        "outputId": "e7ede596-dbab-4921-8ec0-cab25ca87c70"
      },
      "outputs": [
        {
          "output_type": "execute_result",
          "data": {
            "text/plain": [
              "['    \"Lubricant Eye Drops E.D.\": \"3 times a day for two weeks\",',\n",
              " '    \"Analgesic Drug TAB.\": \"once after meal twice a day for a week\",',\n",
              " '    \"Antibiotic Eye Ointment. E.O.\": \"once at night for a week\"']"
            ]
          },
          "metadata": {},
          "execution_count": 291
        }
      ],
      "source": [
        "uncleaned_data[2:-2]"
      ]
    },
    {
      "cell_type": "markdown",
      "source": [
        "## Load Drag Side Effect Dataset"
      ],
      "metadata": {
        "id": "zFb68sZo8Rb0"
      }
    },
    {
      "cell_type": "code",
      "execution_count": null,
      "metadata": {
        "colab": {
          "base_uri": "https://localhost:8080/"
        },
        "id": "sSDc-3VNUQ33",
        "outputId": "c1860811-f3ed-4662-835a-b70505bebe6e"
      },
      "outputs": [
        {
          "output_type": "stream",
          "name": "stdout",
          "text": [
            "{'Lubricant Eye Drops E.D.': '3 times a day for two weeks', 'Analgesic Drug TAB.': 'once after meal twice a day for a week', 'Antibiotic Eye Ointment. E.O.': 'once at night for a week'}\n"
          ]
        }
      ],
      "source": [
        "def convert_text_to_dict(text):\n",
        "    try:\n",
        "        text_str = ' '.join(text)\n",
        "\n",
        "        dictionary = eval('{' + text_str + '}')\n",
        "        return dictionary\n",
        "    except Exception as e:\n",
        "        print(f\"Error converting text to dictionary: {e}\")\n",
        "        return None\n",
        "\n",
        "input_text = uncleaned_data[2:-2]\n",
        "\n",
        "cleaned_data = convert_text_to_dict(input_text)\n",
        "\n",
        "if cleaned_data:\n",
        "    print(cleaned_data)\n"
      ]
    },
    {
      "cell_type": "code",
      "execution_count": null,
      "metadata": {
        "id": "AcWr9hSDsQGA"
      },
      "outputs": [],
      "source": [
        "df = pd.read_csv('/content/drugs_side_effects_drugs_com.csv')"
      ]
    },
    {
      "cell_type": "code",
      "execution_count": null,
      "metadata": {
        "colab": {
          "base_uri": "https://localhost:8080/",
          "height": 556
        },
        "id": "oTrvPaA6sceM",
        "outputId": "8b02df13-3442-4b11-efa5-10b2be2af324"
      },
      "outputs": [
        {
          "output_type": "execute_result",
          "data": {
            "text/plain": [
              "        drug_name medical_condition  \\\n",
              "0     doxycycline              Acne   \n",
              "1  spironolactone              Acne   \n",
              "2     minocycline              Acne   \n",
              "3        Accutane              Acne   \n",
              "4     clindamycin              Acne   \n",
              "\n",
              "                                        side_effects         generic_name  \\\n",
              "0  (hives, difficult breathing, swelling in your ...          doxycycline   \n",
              "1  hives ; difficulty breathing; swelling of your...       spironolactone   \n",
              "2  skin rash, fever, swollen glands, flu-like sym...          minocycline   \n",
              "3  problems with your vision or hearing; muscle o...  isotretinoin (oral)   \n",
              "4  hives ; difficult breathing; swelling of your ...  clindamycin topical   \n",
              "\n",
              "                                        drug_classes  \\\n",
              "0         Miscellaneous antimalarials, Tetracyclines   \n",
              "1  Aldosterone receptor antagonists, Potassium-sp...   \n",
              "2                                      Tetracyclines   \n",
              "3  Miscellaneous antineoplastics, Miscellaneous u...   \n",
              "4       Topical acne agents, Vaginal anti-infectives   \n",
              "\n",
              "                                         brand_names activity rx_otc  \\\n",
              "0  Acticlate, Adoxa CK, Adoxa Pak, Adoxa TT, Alod...      87%     Rx   \n",
              "1                                Aldactone, CaroSpir      82%     Rx   \n",
              "2  Dynacin, Minocin, Minolira, Solodyn, Ximino, V...      48%     Rx   \n",
              "3                                                NaN      41%     Rx   \n",
              "4  Cleocin T, Clindacin ETZ, Clindacin P, Clindag...      39%     Rx   \n",
              "\n",
              "  pregnancy_category csa alcohol  \\\n",
              "0                  D   N       X   \n",
              "1                  C   N       X   \n",
              "2                  D   N     NaN   \n",
              "3                  X   N       X   \n",
              "4                  B   N     NaN   \n",
              "\n",
              "                                       related_drugs  \\\n",
              "0  amoxicillin: https://www.drugs.com/amoxicillin...   \n",
              "1  amlodipine: https://www.drugs.com/amlodipine.h...   \n",
              "2  amoxicillin: https://www.drugs.com/amoxicillin...   \n",
              "3  doxycycline: https://www.drugs.com/doxycycline...   \n",
              "4  doxycycline: https://www.drugs.com/doxycycline...   \n",
              "\n",
              "                       medical_condition_description  rating  no_of_reviews  \\\n",
              "0  Acne Other names: Acne Vulgaris; Blackheads; B...     6.8          760.0   \n",
              "1  Acne Other names: Acne Vulgaris; Blackheads; B...     7.2          449.0   \n",
              "2  Acne Other names: Acne Vulgaris; Blackheads; B...     5.7          482.0   \n",
              "3  Acne Other names: Acne Vulgaris; Blackheads; B...     7.9          623.0   \n",
              "4  Acne Other names: Acne Vulgaris; Blackheads; B...     7.4          146.0   \n",
              "\n",
              "                                           drug_link  \\\n",
              "0             https://www.drugs.com/doxycycline.html   \n",
              "1          https://www.drugs.com/spironolactone.html   \n",
              "2             https://www.drugs.com/minocycline.html   \n",
              "3                https://www.drugs.com/accutane.html   \n",
              "4  https://www.drugs.com/mtm/clindamycin-topical....   \n",
              "\n",
              "                       medical_condition_url  \n",
              "0  https://www.drugs.com/condition/acne.html  \n",
              "1  https://www.drugs.com/condition/acne.html  \n",
              "2  https://www.drugs.com/condition/acne.html  \n",
              "3  https://www.drugs.com/condition/acne.html  \n",
              "4  https://www.drugs.com/condition/acne.html  "
            ],
            "text/html": [
              "\n",
              "  <div id=\"df-6aa4cd1f-3547-4958-8c68-c210331af090\" class=\"colab-df-container\">\n",
              "    <div>\n",
              "<style scoped>\n",
              "    .dataframe tbody tr th:only-of-type {\n",
              "        vertical-align: middle;\n",
              "    }\n",
              "\n",
              "    .dataframe tbody tr th {\n",
              "        vertical-align: top;\n",
              "    }\n",
              "\n",
              "    .dataframe thead th {\n",
              "        text-align: right;\n",
              "    }\n",
              "</style>\n",
              "<table border=\"1\" class=\"dataframe\">\n",
              "  <thead>\n",
              "    <tr style=\"text-align: right;\">\n",
              "      <th></th>\n",
              "      <th>drug_name</th>\n",
              "      <th>medical_condition</th>\n",
              "      <th>side_effects</th>\n",
              "      <th>generic_name</th>\n",
              "      <th>drug_classes</th>\n",
              "      <th>brand_names</th>\n",
              "      <th>activity</th>\n",
              "      <th>rx_otc</th>\n",
              "      <th>pregnancy_category</th>\n",
              "      <th>csa</th>\n",
              "      <th>alcohol</th>\n",
              "      <th>related_drugs</th>\n",
              "      <th>medical_condition_description</th>\n",
              "      <th>rating</th>\n",
              "      <th>no_of_reviews</th>\n",
              "      <th>drug_link</th>\n",
              "      <th>medical_condition_url</th>\n",
              "    </tr>\n",
              "  </thead>\n",
              "  <tbody>\n",
              "    <tr>\n",
              "      <th>0</th>\n",
              "      <td>doxycycline</td>\n",
              "      <td>Acne</td>\n",
              "      <td>(hives, difficult breathing, swelling in your ...</td>\n",
              "      <td>doxycycline</td>\n",
              "      <td>Miscellaneous antimalarials, Tetracyclines</td>\n",
              "      <td>Acticlate, Adoxa CK, Adoxa Pak, Adoxa TT, Alod...</td>\n",
              "      <td>87%</td>\n",
              "      <td>Rx</td>\n",
              "      <td>D</td>\n",
              "      <td>N</td>\n",
              "      <td>X</td>\n",
              "      <td>amoxicillin: https://www.drugs.com/amoxicillin...</td>\n",
              "      <td>Acne Other names: Acne Vulgaris; Blackheads; B...</td>\n",
              "      <td>6.8</td>\n",
              "      <td>760.0</td>\n",
              "      <td>https://www.drugs.com/doxycycline.html</td>\n",
              "      <td>https://www.drugs.com/condition/acne.html</td>\n",
              "    </tr>\n",
              "    <tr>\n",
              "      <th>1</th>\n",
              "      <td>spironolactone</td>\n",
              "      <td>Acne</td>\n",
              "      <td>hives ; difficulty breathing; swelling of your...</td>\n",
              "      <td>spironolactone</td>\n",
              "      <td>Aldosterone receptor antagonists, Potassium-sp...</td>\n",
              "      <td>Aldactone, CaroSpir</td>\n",
              "      <td>82%</td>\n",
              "      <td>Rx</td>\n",
              "      <td>C</td>\n",
              "      <td>N</td>\n",
              "      <td>X</td>\n",
              "      <td>amlodipine: https://www.drugs.com/amlodipine.h...</td>\n",
              "      <td>Acne Other names: Acne Vulgaris; Blackheads; B...</td>\n",
              "      <td>7.2</td>\n",
              "      <td>449.0</td>\n",
              "      <td>https://www.drugs.com/spironolactone.html</td>\n",
              "      <td>https://www.drugs.com/condition/acne.html</td>\n",
              "    </tr>\n",
              "    <tr>\n",
              "      <th>2</th>\n",
              "      <td>minocycline</td>\n",
              "      <td>Acne</td>\n",
              "      <td>skin rash, fever, swollen glands, flu-like sym...</td>\n",
              "      <td>minocycline</td>\n",
              "      <td>Tetracyclines</td>\n",
              "      <td>Dynacin, Minocin, Minolira, Solodyn, Ximino, V...</td>\n",
              "      <td>48%</td>\n",
              "      <td>Rx</td>\n",
              "      <td>D</td>\n",
              "      <td>N</td>\n",
              "      <td>NaN</td>\n",
              "      <td>amoxicillin: https://www.drugs.com/amoxicillin...</td>\n",
              "      <td>Acne Other names: Acne Vulgaris; Blackheads; B...</td>\n",
              "      <td>5.7</td>\n",
              "      <td>482.0</td>\n",
              "      <td>https://www.drugs.com/minocycline.html</td>\n",
              "      <td>https://www.drugs.com/condition/acne.html</td>\n",
              "    </tr>\n",
              "    <tr>\n",
              "      <th>3</th>\n",
              "      <td>Accutane</td>\n",
              "      <td>Acne</td>\n",
              "      <td>problems with your vision or hearing; muscle o...</td>\n",
              "      <td>isotretinoin (oral)</td>\n",
              "      <td>Miscellaneous antineoplastics, Miscellaneous u...</td>\n",
              "      <td>NaN</td>\n",
              "      <td>41%</td>\n",
              "      <td>Rx</td>\n",
              "      <td>X</td>\n",
              "      <td>N</td>\n",
              "      <td>X</td>\n",
              "      <td>doxycycline: https://www.drugs.com/doxycycline...</td>\n",
              "      <td>Acne Other names: Acne Vulgaris; Blackheads; B...</td>\n",
              "      <td>7.9</td>\n",
              "      <td>623.0</td>\n",
              "      <td>https://www.drugs.com/accutane.html</td>\n",
              "      <td>https://www.drugs.com/condition/acne.html</td>\n",
              "    </tr>\n",
              "    <tr>\n",
              "      <th>4</th>\n",
              "      <td>clindamycin</td>\n",
              "      <td>Acne</td>\n",
              "      <td>hives ; difficult breathing; swelling of your ...</td>\n",
              "      <td>clindamycin topical</td>\n",
              "      <td>Topical acne agents, Vaginal anti-infectives</td>\n",
              "      <td>Cleocin T, Clindacin ETZ, Clindacin P, Clindag...</td>\n",
              "      <td>39%</td>\n",
              "      <td>Rx</td>\n",
              "      <td>B</td>\n",
              "      <td>N</td>\n",
              "      <td>NaN</td>\n",
              "      <td>doxycycline: https://www.drugs.com/doxycycline...</td>\n",
              "      <td>Acne Other names: Acne Vulgaris; Blackheads; B...</td>\n",
              "      <td>7.4</td>\n",
              "      <td>146.0</td>\n",
              "      <td>https://www.drugs.com/mtm/clindamycin-topical....</td>\n",
              "      <td>https://www.drugs.com/condition/acne.html</td>\n",
              "    </tr>\n",
              "  </tbody>\n",
              "</table>\n",
              "</div>\n",
              "    <div class=\"colab-df-buttons\">\n",
              "\n",
              "  <div class=\"colab-df-container\">\n",
              "    <button class=\"colab-df-convert\" onclick=\"convertToInteractive('df-6aa4cd1f-3547-4958-8c68-c210331af090')\"\n",
              "            title=\"Convert this dataframe to an interactive table.\"\n",
              "            style=\"display:none;\">\n",
              "\n",
              "  <svg xmlns=\"http://www.w3.org/2000/svg\" height=\"24px\" viewBox=\"0 -960 960 960\">\n",
              "    <path d=\"M120-120v-720h720v720H120Zm60-500h600v-160H180v160Zm220 220h160v-160H400v160Zm0 220h160v-160H400v160ZM180-400h160v-160H180v160Zm440 0h160v-160H620v160ZM180-180h160v-160H180v160Zm440 0h160v-160H620v160Z\"/>\n",
              "  </svg>\n",
              "    </button>\n",
              "\n",
              "  <style>\n",
              "    .colab-df-container {\n",
              "      display:flex;\n",
              "      gap: 12px;\n",
              "    }\n",
              "\n",
              "    .colab-df-convert {\n",
              "      background-color: #E8F0FE;\n",
              "      border: none;\n",
              "      border-radius: 50%;\n",
              "      cursor: pointer;\n",
              "      display: none;\n",
              "      fill: #1967D2;\n",
              "      height: 32px;\n",
              "      padding: 0 0 0 0;\n",
              "      width: 32px;\n",
              "    }\n",
              "\n",
              "    .colab-df-convert:hover {\n",
              "      background-color: #E2EBFA;\n",
              "      box-shadow: 0px 1px 2px rgba(60, 64, 67, 0.3), 0px 1px 3px 1px rgba(60, 64, 67, 0.15);\n",
              "      fill: #174EA6;\n",
              "    }\n",
              "\n",
              "    .colab-df-buttons div {\n",
              "      margin-bottom: 4px;\n",
              "    }\n",
              "\n",
              "    [theme=dark] .colab-df-convert {\n",
              "      background-color: #3B4455;\n",
              "      fill: #D2E3FC;\n",
              "    }\n",
              "\n",
              "    [theme=dark] .colab-df-convert:hover {\n",
              "      background-color: #434B5C;\n",
              "      box-shadow: 0px 1px 3px 1px rgba(0, 0, 0, 0.15);\n",
              "      filter: drop-shadow(0px 1px 2px rgba(0, 0, 0, 0.3));\n",
              "      fill: #FFFFFF;\n",
              "    }\n",
              "  </style>\n",
              "\n",
              "    <script>\n",
              "      const buttonEl =\n",
              "        document.querySelector('#df-6aa4cd1f-3547-4958-8c68-c210331af090 button.colab-df-convert');\n",
              "      buttonEl.style.display =\n",
              "        google.colab.kernel.accessAllowed ? 'block' : 'none';\n",
              "\n",
              "      async function convertToInteractive(key) {\n",
              "        const element = document.querySelector('#df-6aa4cd1f-3547-4958-8c68-c210331af090');\n",
              "        const dataTable =\n",
              "          await google.colab.kernel.invokeFunction('convertToInteractive',\n",
              "                                                    [key], {});\n",
              "        if (!dataTable) return;\n",
              "\n",
              "        const docLinkHtml = 'Like what you see? Visit the ' +\n",
              "          '<a target=\"_blank\" href=https://colab.research.google.com/notebooks/data_table.ipynb>data table notebook</a>'\n",
              "          + ' to learn more about interactive tables.';\n",
              "        element.innerHTML = '';\n",
              "        dataTable['output_type'] = 'display_data';\n",
              "        await google.colab.output.renderOutput(dataTable, element);\n",
              "        const docLink = document.createElement('div');\n",
              "        docLink.innerHTML = docLinkHtml;\n",
              "        element.appendChild(docLink);\n",
              "      }\n",
              "    </script>\n",
              "  </div>\n",
              "\n",
              "\n",
              "<div id=\"df-5cc9c3c0-58de-4be1-bc09-7b95c1c4fb1a\">\n",
              "  <button class=\"colab-df-quickchart\" onclick=\"quickchart('df-5cc9c3c0-58de-4be1-bc09-7b95c1c4fb1a')\"\n",
              "            title=\"Suggest charts\"\n",
              "            style=\"display:none;\">\n",
              "\n",
              "<svg xmlns=\"http://www.w3.org/2000/svg\" height=\"24px\"viewBox=\"0 0 24 24\"\n",
              "     width=\"24px\">\n",
              "    <g>\n",
              "        <path d=\"M19 3H5c-1.1 0-2 .9-2 2v14c0 1.1.9 2 2 2h14c1.1 0 2-.9 2-2V5c0-1.1-.9-2-2-2zM9 17H7v-7h2v7zm4 0h-2V7h2v10zm4 0h-2v-4h2v4z\"/>\n",
              "    </g>\n",
              "</svg>\n",
              "  </button>\n",
              "\n",
              "<style>\n",
              "  .colab-df-quickchart {\n",
              "      --bg-color: #E8F0FE;\n",
              "      --fill-color: #1967D2;\n",
              "      --hover-bg-color: #E2EBFA;\n",
              "      --hover-fill-color: #174EA6;\n",
              "      --disabled-fill-color: #AAA;\n",
              "      --disabled-bg-color: #DDD;\n",
              "  }\n",
              "\n",
              "  [theme=dark] .colab-df-quickchart {\n",
              "      --bg-color: #3B4455;\n",
              "      --fill-color: #D2E3FC;\n",
              "      --hover-bg-color: #434B5C;\n",
              "      --hover-fill-color: #FFFFFF;\n",
              "      --disabled-bg-color: #3B4455;\n",
              "      --disabled-fill-color: #666;\n",
              "  }\n",
              "\n",
              "  .colab-df-quickchart {\n",
              "    background-color: var(--bg-color);\n",
              "    border: none;\n",
              "    border-radius: 50%;\n",
              "    cursor: pointer;\n",
              "    display: none;\n",
              "    fill: var(--fill-color);\n",
              "    height: 32px;\n",
              "    padding: 0;\n",
              "    width: 32px;\n",
              "  }\n",
              "\n",
              "  .colab-df-quickchart:hover {\n",
              "    background-color: var(--hover-bg-color);\n",
              "    box-shadow: 0 1px 2px rgba(60, 64, 67, 0.3), 0 1px 3px 1px rgba(60, 64, 67, 0.15);\n",
              "    fill: var(--button-hover-fill-color);\n",
              "  }\n",
              "\n",
              "  .colab-df-quickchart-complete:disabled,\n",
              "  .colab-df-quickchart-complete:disabled:hover {\n",
              "    background-color: var(--disabled-bg-color);\n",
              "    fill: var(--disabled-fill-color);\n",
              "    box-shadow: none;\n",
              "  }\n",
              "\n",
              "  .colab-df-spinner {\n",
              "    border: 2px solid var(--fill-color);\n",
              "    border-color: transparent;\n",
              "    border-bottom-color: var(--fill-color);\n",
              "    animation:\n",
              "      spin 1s steps(1) infinite;\n",
              "  }\n",
              "\n",
              "  @keyframes spin {\n",
              "    0% {\n",
              "      border-color: transparent;\n",
              "      border-bottom-color: var(--fill-color);\n",
              "      border-left-color: var(--fill-color);\n",
              "    }\n",
              "    20% {\n",
              "      border-color: transparent;\n",
              "      border-left-color: var(--fill-color);\n",
              "      border-top-color: var(--fill-color);\n",
              "    }\n",
              "    30% {\n",
              "      border-color: transparent;\n",
              "      border-left-color: var(--fill-color);\n",
              "      border-top-color: var(--fill-color);\n",
              "      border-right-color: var(--fill-color);\n",
              "    }\n",
              "    40% {\n",
              "      border-color: transparent;\n",
              "      border-right-color: var(--fill-color);\n",
              "      border-top-color: var(--fill-color);\n",
              "    }\n",
              "    60% {\n",
              "      border-color: transparent;\n",
              "      border-right-color: var(--fill-color);\n",
              "    }\n",
              "    80% {\n",
              "      border-color: transparent;\n",
              "      border-right-color: var(--fill-color);\n",
              "      border-bottom-color: var(--fill-color);\n",
              "    }\n",
              "    90% {\n",
              "      border-color: transparent;\n",
              "      border-bottom-color: var(--fill-color);\n",
              "    }\n",
              "  }\n",
              "</style>\n",
              "\n",
              "  <script>\n",
              "    async function quickchart(key) {\n",
              "      const quickchartButtonEl =\n",
              "        document.querySelector('#' + key + ' button');\n",
              "      quickchartButtonEl.disabled = true;  // To prevent multiple clicks.\n",
              "      quickchartButtonEl.classList.add('colab-df-spinner');\n",
              "      try {\n",
              "        const charts = await google.colab.kernel.invokeFunction(\n",
              "            'suggestCharts', [key], {});\n",
              "      } catch (error) {\n",
              "        console.error('Error during call to suggestCharts:', error);\n",
              "      }\n",
              "      quickchartButtonEl.classList.remove('colab-df-spinner');\n",
              "      quickchartButtonEl.classList.add('colab-df-quickchart-complete');\n",
              "    }\n",
              "    (() => {\n",
              "      let quickchartButtonEl =\n",
              "        document.querySelector('#df-5cc9c3c0-58de-4be1-bc09-7b95c1c4fb1a button');\n",
              "      quickchartButtonEl.style.display =\n",
              "        google.colab.kernel.accessAllowed ? 'block' : 'none';\n",
              "    })();\n",
              "  </script>\n",
              "</div>\n",
              "\n",
              "    </div>\n",
              "  </div>\n"
            ]
          },
          "metadata": {},
          "execution_count": 294
        }
      ],
      "source": [
        "df.head()"
      ]
    },
    {
      "cell_type": "code",
      "source": [
        "med_db = df[['drug_name', 'medical_condition', 'side_effects', 'generic_name']]\n"
      ],
      "metadata": {
        "id": "TTSanqmtEhQF"
      },
      "execution_count": null,
      "outputs": []
    },
    {
      "cell_type": "code",
      "source": [
        "med_db.info()"
      ],
      "metadata": {
        "colab": {
          "base_uri": "https://localhost:8080/"
        },
        "id": "3rsYZID7VeHp",
        "outputId": "f88b4021-ec86-45ec-c0ad-ffb24f662ad7"
      },
      "execution_count": null,
      "outputs": [
        {
          "output_type": "stream",
          "name": "stdout",
          "text": [
            "<class 'pandas.core.frame.DataFrame'>\n",
            "RangeIndex: 2931 entries, 0 to 2930\n",
            "Data columns (total 4 columns):\n",
            " #   Column             Non-Null Count  Dtype \n",
            "---  ------             --------------  ----- \n",
            " 0   drug_name          2931 non-null   object\n",
            " 1   medical_condition  2931 non-null   object\n",
            " 2   side_effects       2807 non-null   object\n",
            " 3   generic_name       2888 non-null   object\n",
            "dtypes: object(4)\n",
            "memory usage: 91.7+ KB\n"
          ]
        }
      ]
    },
    {
      "cell_type": "code",
      "source": [
        "med_db.dropna(inplace=True)"
      ],
      "metadata": {
        "colab": {
          "base_uri": "https://localhost:8080/"
        },
        "id": "2uxG2CEuVmgN",
        "outputId": "1c436626-cd88-4d0c-daf7-29e21ddb7309"
      },
      "execution_count": null,
      "outputs": [
        {
          "output_type": "stream",
          "name": "stderr",
          "text": [
            "<ipython-input-297-ec38586f0efb>:1: SettingWithCopyWarning: \n",
            "A value is trying to be set on a copy of a slice from a DataFrame\n",
            "\n",
            "See the caveats in the documentation: https://pandas.pydata.org/pandas-docs/stable/user_guide/indexing.html#returning-a-view-versus-a-copy\n",
            "  med_db.dropna(inplace=True)\n"
          ]
        }
      ]
    },
    {
      "cell_type": "code",
      "source": [
        "med_db.head(2)"
      ],
      "metadata": {
        "colab": {
          "base_uri": "https://localhost:8080/",
          "height": 112
        },
        "id": "s1qkfRRYFXl-",
        "outputId": "fd720c24-5375-490e-d2e8-89e7029383d1"
      },
      "execution_count": null,
      "outputs": [
        {
          "output_type": "execute_result",
          "data": {
            "text/plain": [
              "        drug_name medical_condition  \\\n",
              "0     doxycycline              Acne   \n",
              "1  spironolactone              Acne   \n",
              "\n",
              "                                        side_effects    generic_name  \n",
              "0  (hives, difficult breathing, swelling in your ...     doxycycline  \n",
              "1  hives ; difficulty breathing; swelling of your...  spironolactone  "
            ],
            "text/html": [
              "\n",
              "  <div id=\"df-1b75e129-ad3b-4026-ad5f-f4f20bf36e04\" class=\"colab-df-container\">\n",
              "    <div>\n",
              "<style scoped>\n",
              "    .dataframe tbody tr th:only-of-type {\n",
              "        vertical-align: middle;\n",
              "    }\n",
              "\n",
              "    .dataframe tbody tr th {\n",
              "        vertical-align: top;\n",
              "    }\n",
              "\n",
              "    .dataframe thead th {\n",
              "        text-align: right;\n",
              "    }\n",
              "</style>\n",
              "<table border=\"1\" class=\"dataframe\">\n",
              "  <thead>\n",
              "    <tr style=\"text-align: right;\">\n",
              "      <th></th>\n",
              "      <th>drug_name</th>\n",
              "      <th>medical_condition</th>\n",
              "      <th>side_effects</th>\n",
              "      <th>generic_name</th>\n",
              "    </tr>\n",
              "  </thead>\n",
              "  <tbody>\n",
              "    <tr>\n",
              "      <th>0</th>\n",
              "      <td>doxycycline</td>\n",
              "      <td>Acne</td>\n",
              "      <td>(hives, difficult breathing, swelling in your ...</td>\n",
              "      <td>doxycycline</td>\n",
              "    </tr>\n",
              "    <tr>\n",
              "      <th>1</th>\n",
              "      <td>spironolactone</td>\n",
              "      <td>Acne</td>\n",
              "      <td>hives ; difficulty breathing; swelling of your...</td>\n",
              "      <td>spironolactone</td>\n",
              "    </tr>\n",
              "  </tbody>\n",
              "</table>\n",
              "</div>\n",
              "    <div class=\"colab-df-buttons\">\n",
              "\n",
              "  <div class=\"colab-df-container\">\n",
              "    <button class=\"colab-df-convert\" onclick=\"convertToInteractive('df-1b75e129-ad3b-4026-ad5f-f4f20bf36e04')\"\n",
              "            title=\"Convert this dataframe to an interactive table.\"\n",
              "            style=\"display:none;\">\n",
              "\n",
              "  <svg xmlns=\"http://www.w3.org/2000/svg\" height=\"24px\" viewBox=\"0 -960 960 960\">\n",
              "    <path d=\"M120-120v-720h720v720H120Zm60-500h600v-160H180v160Zm220 220h160v-160H400v160Zm0 220h160v-160H400v160ZM180-400h160v-160H180v160Zm440 0h160v-160H620v160ZM180-180h160v-160H180v160Zm440 0h160v-160H620v160Z\"/>\n",
              "  </svg>\n",
              "    </button>\n",
              "\n",
              "  <style>\n",
              "    .colab-df-container {\n",
              "      display:flex;\n",
              "      gap: 12px;\n",
              "    }\n",
              "\n",
              "    .colab-df-convert {\n",
              "      background-color: #E8F0FE;\n",
              "      border: none;\n",
              "      border-radius: 50%;\n",
              "      cursor: pointer;\n",
              "      display: none;\n",
              "      fill: #1967D2;\n",
              "      height: 32px;\n",
              "      padding: 0 0 0 0;\n",
              "      width: 32px;\n",
              "    }\n",
              "\n",
              "    .colab-df-convert:hover {\n",
              "      background-color: #E2EBFA;\n",
              "      box-shadow: 0px 1px 2px rgba(60, 64, 67, 0.3), 0px 1px 3px 1px rgba(60, 64, 67, 0.15);\n",
              "      fill: #174EA6;\n",
              "    }\n",
              "\n",
              "    .colab-df-buttons div {\n",
              "      margin-bottom: 4px;\n",
              "    }\n",
              "\n",
              "    [theme=dark] .colab-df-convert {\n",
              "      background-color: #3B4455;\n",
              "      fill: #D2E3FC;\n",
              "    }\n",
              "\n",
              "    [theme=dark] .colab-df-convert:hover {\n",
              "      background-color: #434B5C;\n",
              "      box-shadow: 0px 1px 3px 1px rgba(0, 0, 0, 0.15);\n",
              "      filter: drop-shadow(0px 1px 2px rgba(0, 0, 0, 0.3));\n",
              "      fill: #FFFFFF;\n",
              "    }\n",
              "  </style>\n",
              "\n",
              "    <script>\n",
              "      const buttonEl =\n",
              "        document.querySelector('#df-1b75e129-ad3b-4026-ad5f-f4f20bf36e04 button.colab-df-convert');\n",
              "      buttonEl.style.display =\n",
              "        google.colab.kernel.accessAllowed ? 'block' : 'none';\n",
              "\n",
              "      async function convertToInteractive(key) {\n",
              "        const element = document.querySelector('#df-1b75e129-ad3b-4026-ad5f-f4f20bf36e04');\n",
              "        const dataTable =\n",
              "          await google.colab.kernel.invokeFunction('convertToInteractive',\n",
              "                                                    [key], {});\n",
              "        if (!dataTable) return;\n",
              "\n",
              "        const docLinkHtml = 'Like what you see? Visit the ' +\n",
              "          '<a target=\"_blank\" href=https://colab.research.google.com/notebooks/data_table.ipynb>data table notebook</a>'\n",
              "          + ' to learn more about interactive tables.';\n",
              "        element.innerHTML = '';\n",
              "        dataTable['output_type'] = 'display_data';\n",
              "        await google.colab.output.renderOutput(dataTable, element);\n",
              "        const docLink = document.createElement('div');\n",
              "        docLink.innerHTML = docLinkHtml;\n",
              "        element.appendChild(docLink);\n",
              "      }\n",
              "    </script>\n",
              "  </div>\n",
              "\n",
              "\n",
              "<div id=\"df-a1f91e09-c8c4-4bce-9739-c717c99d06cd\">\n",
              "  <button class=\"colab-df-quickchart\" onclick=\"quickchart('df-a1f91e09-c8c4-4bce-9739-c717c99d06cd')\"\n",
              "            title=\"Suggest charts\"\n",
              "            style=\"display:none;\">\n",
              "\n",
              "<svg xmlns=\"http://www.w3.org/2000/svg\" height=\"24px\"viewBox=\"0 0 24 24\"\n",
              "     width=\"24px\">\n",
              "    <g>\n",
              "        <path d=\"M19 3H5c-1.1 0-2 .9-2 2v14c0 1.1.9 2 2 2h14c1.1 0 2-.9 2-2V5c0-1.1-.9-2-2-2zM9 17H7v-7h2v7zm4 0h-2V7h2v10zm4 0h-2v-4h2v4z\"/>\n",
              "    </g>\n",
              "</svg>\n",
              "  </button>\n",
              "\n",
              "<style>\n",
              "  .colab-df-quickchart {\n",
              "      --bg-color: #E8F0FE;\n",
              "      --fill-color: #1967D2;\n",
              "      --hover-bg-color: #E2EBFA;\n",
              "      --hover-fill-color: #174EA6;\n",
              "      --disabled-fill-color: #AAA;\n",
              "      --disabled-bg-color: #DDD;\n",
              "  }\n",
              "\n",
              "  [theme=dark] .colab-df-quickchart {\n",
              "      --bg-color: #3B4455;\n",
              "      --fill-color: #D2E3FC;\n",
              "      --hover-bg-color: #434B5C;\n",
              "      --hover-fill-color: #FFFFFF;\n",
              "      --disabled-bg-color: #3B4455;\n",
              "      --disabled-fill-color: #666;\n",
              "  }\n",
              "\n",
              "  .colab-df-quickchart {\n",
              "    background-color: var(--bg-color);\n",
              "    border: none;\n",
              "    border-radius: 50%;\n",
              "    cursor: pointer;\n",
              "    display: none;\n",
              "    fill: var(--fill-color);\n",
              "    height: 32px;\n",
              "    padding: 0;\n",
              "    width: 32px;\n",
              "  }\n",
              "\n",
              "  .colab-df-quickchart:hover {\n",
              "    background-color: var(--hover-bg-color);\n",
              "    box-shadow: 0 1px 2px rgba(60, 64, 67, 0.3), 0 1px 3px 1px rgba(60, 64, 67, 0.15);\n",
              "    fill: var(--button-hover-fill-color);\n",
              "  }\n",
              "\n",
              "  .colab-df-quickchart-complete:disabled,\n",
              "  .colab-df-quickchart-complete:disabled:hover {\n",
              "    background-color: var(--disabled-bg-color);\n",
              "    fill: var(--disabled-fill-color);\n",
              "    box-shadow: none;\n",
              "  }\n",
              "\n",
              "  .colab-df-spinner {\n",
              "    border: 2px solid var(--fill-color);\n",
              "    border-color: transparent;\n",
              "    border-bottom-color: var(--fill-color);\n",
              "    animation:\n",
              "      spin 1s steps(1) infinite;\n",
              "  }\n",
              "\n",
              "  @keyframes spin {\n",
              "    0% {\n",
              "      border-color: transparent;\n",
              "      border-bottom-color: var(--fill-color);\n",
              "      border-left-color: var(--fill-color);\n",
              "    }\n",
              "    20% {\n",
              "      border-color: transparent;\n",
              "      border-left-color: var(--fill-color);\n",
              "      border-top-color: var(--fill-color);\n",
              "    }\n",
              "    30% {\n",
              "      border-color: transparent;\n",
              "      border-left-color: var(--fill-color);\n",
              "      border-top-color: var(--fill-color);\n",
              "      border-right-color: var(--fill-color);\n",
              "    }\n",
              "    40% {\n",
              "      border-color: transparent;\n",
              "      border-right-color: var(--fill-color);\n",
              "      border-top-color: var(--fill-color);\n",
              "    }\n",
              "    60% {\n",
              "      border-color: transparent;\n",
              "      border-right-color: var(--fill-color);\n",
              "    }\n",
              "    80% {\n",
              "      border-color: transparent;\n",
              "      border-right-color: var(--fill-color);\n",
              "      border-bottom-color: var(--fill-color);\n",
              "    }\n",
              "    90% {\n",
              "      border-color: transparent;\n",
              "      border-bottom-color: var(--fill-color);\n",
              "    }\n",
              "  }\n",
              "</style>\n",
              "\n",
              "  <script>\n",
              "    async function quickchart(key) {\n",
              "      const quickchartButtonEl =\n",
              "        document.querySelector('#' + key + ' button');\n",
              "      quickchartButtonEl.disabled = true;  // To prevent multiple clicks.\n",
              "      quickchartButtonEl.classList.add('colab-df-spinner');\n",
              "      try {\n",
              "        const charts = await google.colab.kernel.invokeFunction(\n",
              "            'suggestCharts', [key], {});\n",
              "      } catch (error) {\n",
              "        console.error('Error during call to suggestCharts:', error);\n",
              "      }\n",
              "      quickchartButtonEl.classList.remove('colab-df-spinner');\n",
              "      quickchartButtonEl.classList.add('colab-df-quickchart-complete');\n",
              "    }\n",
              "    (() => {\n",
              "      let quickchartButtonEl =\n",
              "        document.querySelector('#df-a1f91e09-c8c4-4bce-9739-c717c99d06cd button');\n",
              "      quickchartButtonEl.style.display =\n",
              "        google.colab.kernel.accessAllowed ? 'block' : 'none';\n",
              "    })();\n",
              "  </script>\n",
              "</div>\n",
              "\n",
              "    </div>\n",
              "  </div>\n"
            ]
          },
          "metadata": {},
          "execution_count": 298
        }
      ]
    },
    {
      "cell_type": "code",
      "source": [
        "small_med_db = med_db.head(400)"
      ],
      "metadata": {
        "id": "9x7aLJbMQfvk"
      },
      "execution_count": null,
      "outputs": []
    },
    {
      "cell_type": "code",
      "source": [
        "small_med_db.to_csv(\"small_drugs_side_effect.csv\")"
      ],
      "metadata": {
        "id": "GL1BD8SJFe8T"
      },
      "execution_count": null,
      "outputs": []
    },
    {
      "cell_type": "code",
      "source": [
        "medical = small_med_db.drug_name_side_effects_generic_name.tolist()"
      ],
      "metadata": {
        "id": "Y2-CiAI_glDG"
      },
      "execution_count": null,
      "outputs": []
    },
    {
      "cell_type": "markdown",
      "source": [
        "## Embedding data"
      ],
      "metadata": {
        "id": "lT9eBunZ84_s"
      }
    },
    {
      "cell_type": "code",
      "source": [
        "def generate_batches(sentences, batch_size = 5):\n",
        "    for i in range(0, len(sentences), batch_size):\n",
        "        yield sentences[i : i + batch_size]\n",
        "\n",
        "def encode_texts_to_embeddings(sentences):\n",
        "    model = TextEmbeddingModel.from_pretrained(\"textembedding-gecko@001\")\n",
        "    try:\n",
        "        embeddings = model.get_embeddings(sentences)\n",
        "        return [embedding.values for embedding in embeddings]\n",
        "    except Exception:\n",
        "        return [None for _ in range(len(sentences))]\n",
        "\n",
        "def encode_text_to_embedding_batched(sentences, api_calls_per_second = 0.33, batch_size = 5):\n",
        "    # Generates batches and calls embedding API\n",
        "\n",
        "    embeddings_list = []\n",
        "\n",
        "    # Prepare the batches using a generator\n",
        "    batches = generate_batches(sentences, batch_size)\n",
        "\n",
        "    seconds_per_job = 1 / api_calls_per_second\n",
        "\n",
        "    with ThreadPoolExecutor() as executor:\n",
        "        futures = []\n",
        "        for batch in tqdm(\n",
        "            batches, total = math.ceil(len(sentences) / batch_size), position=0\n",
        "        ):\n",
        "            futures.append(\n",
        "                executor.submit(functools.partial(encode_texts_to_embeddings), batch)\n",
        "            )\n",
        "            time.sleep(seconds_per_job)\n",
        "\n",
        "        for future in futures:\n",
        "            embeddings_list.extend(future.result())\n",
        "\n",
        "    is_successful = [\n",
        "        embedding is not None for sentence, embedding in zip(sentences, embeddings_list)\n",
        "    ]\n",
        "    embeddings_list_successful = np.squeeze(\n",
        "        np.stack([embedding for embedding in embeddings_list if embedding is not None])\n",
        "    )\n",
        "    return embeddings_list_successful"
      ],
      "metadata": {
        "id": "Ymp94UGTTVDh"
      },
      "execution_count": null,
      "outputs": []
    },
    {
      "cell_type": "code",
      "source": [
        "embedding_model = TextEmbeddingModel.from_pretrained(\n",
        "    \"textembedding-gecko@001\")"
      ],
      "metadata": {
        "id": "WBGLGKUoR32G"
      },
      "execution_count": null,
      "outputs": []
    },
    {
      "cell_type": "code",
      "source": [
        "medical = small_med_db.drug_name_side_effects_generic_name.tolist()"
      ],
      "metadata": {
        "id": "FlLHqRIESFFQ"
      },
      "execution_count": null,
      "outputs": []
    },
    {
      "cell_type": "code",
      "source": [
        "print(medical[0])"
      ],
      "metadata": {
        "colab": {
          "base_uri": "https://localhost:8080/"
        },
        "id": "DpNICCfyWXB2",
        "outputId": "5b3cf5ce-e5d7-40a2-a991-cdece87c065b"
      },
      "execution_count": null,
      "outputs": [
        {
          "output_type": "stream",
          "name": "stdout",
          "text": [
            "doxycycline, (hives, difficult breathing, swelling in your face or throat) or a severe skin reaction (fever, sore throat, burning in your eyes, skin pain, red or purple skin rash that spreads and causes blistering and peeling). Seek medical treatment if you have a serious drug reaction that can affect many parts of your body. Symptoms may include: skin rash, fever, swollen glands, flu-like symptoms, muscle aches, severe weakness, unusual bruising, or yellowing of your skin or eyes. This reaction may occur several weeks after you began using doxycycline. Doxycycline may cause serious side effects. Call your doctor at once if you have: severe stomach pain, diarrhea that is watery or bloody; throat irritation, trouble swallowing; chest pain, irregular heart rhythm, feeling short of breath; little or no urination; low white blood cell counts - fever, chills, swollen glands, body aches, weakness, pale skin, easy bruising or bleeding; severe headaches, ringing in your ears, dizziness, nausea, vision problems, pain behind your eyes; loss of appetite, upper stomach pain (that may spread to your back), tiredness, nausea or vomiting, fast heart rate, dark urine, jaundice (yellowing of the skin or eyes). Common side effects of doxycycline may include: nausea and vomiting; upset stomach; loss of appetite; mild diarrhea; skin rash or itching; darkened skin color; vaginal itching or discharge., doxycycline\n"
          ]
        }
      ]
    },
    {
      "cell_type": "code",
      "source": [
        "medical_embeddings = encode_text_to_embedding_batched(\n",
        "            sentences = medical[:20],\n",
        "            api_calls_per_second = 20/60,\n",
        "            batch_size = 200)"
      ],
      "metadata": {
        "colab": {
          "base_uri": "https://localhost:8080/",
          "height": 17,
          "referenced_widgets": [
            "484603030d544fef85f85ddc3684861f",
            "412c1c1955144b57bc41aaf3a9ba14ae",
            "4c691d4e88fb4341b9afba58224e1a24",
            "c4cf6549ba614f17ac3ce7da4fc04fe3",
            "df308612262e4a6ca2028fb8a259cab2",
            "a29918ef200d4a1c878edad8b22f1047",
            "1ad3bbfdc3f24f7ba7d82075174caaef",
            "889698d019bb4102a4015cc7ffc0fde8",
            "a8ac5a9119eb4d068687165b2c1848b3",
            "04946011e1e848b2aceac62fe614d4ad",
            "b56dc83e255f40e890687775777909f9"
          ]
        },
        "id": "W8cRSnzIUTwp",
        "outputId": "0d8a0644-5989-4bfb-9914-2838e4628cf5"
      },
      "execution_count": null,
      "outputs": [
        {
          "output_type": "display_data",
          "data": {
            "text/plain": [
              "  0%|          | 0/1 [00:00<?, ?it/s]"
            ],
            "application/vnd.jupyter.widget-view+json": {
              "version_major": 2,
              "version_minor": 0,
              "model_id": "484603030d544fef85f85ddc3684861f"
            }
          },
          "metadata": {}
        }
      ]
    },
    {
      "cell_type": "code",
      "source": [
        "import pickle\n",
        "with open('medical_embeddings.pickle', 'wb') as handle:\n",
        "    pickle.dump(medical_embeddings, handle, protocol=pickle.HIGHEST_PROTOCOL)\n"
      ],
      "metadata": {
        "id": "w1rTa0At94Xa"
      },
      "execution_count": null,
      "outputs": []
    },
    {
      "cell_type": "code",
      "source": [
        "with open('medical_embeddings.pickle', 'rb') as file:\n",
        "\n",
        "    drugs_embeddings = pickle.load(file)\n",
        "\n",
        "    print(drugs_embeddings)"
      ],
      "metadata": {
        "colab": {
          "base_uri": "https://localhost:8080/"
        },
        "id": "KkEVokpy-Evw",
        "outputId": "5092a84b-fe93-4f77-cab1-6a31351ea8ea"
      },
      "execution_count": null,
      "outputs": [
        {
          "output_type": "stream",
          "name": "stdout",
          "text": [
            "[[-0.00672768 -0.02730319  0.00240885 ... -0.02212393 -0.01868371\n",
            "  -0.02210676]\n",
            " [-0.00922261 -0.02114555 -0.01299223 ... -0.03240846  0.00854058\n",
            "  -0.03885769]\n",
            " [ 0.00908843 -0.02520366  0.01095423 ... -0.048889   -0.00353505\n",
            "  -0.01247655]\n",
            " ...\n",
            " [ 0.01638014 -0.02556225 -0.00073034 ... -0.00179679 -0.00135262\n",
            "  -0.01433476]\n",
            " [-0.01633849 -0.00181386 -0.00151316 ... -0.02593947  0.01989759\n",
            "   0.0079709 ]\n",
            " [ 0.01365166 -0.00146412 -0.0140797  ... -0.0480246  -0.00359442\n",
            "  -0.03482459]]\n"
          ]
        }
      ]
    },
    {
      "cell_type": "code",
      "source": [
        "query = [\"What is the side effect of doxycycline\"]\n",
        "query_embedding = embedding_model.get_embeddings(query)[0].values\n",
        "cos_sim_array = cosine_similarity([query_embedding],\n",
        "                                  drugs_embeddings)"
      ],
      "metadata": {
        "id": "QtwynCJn1BcI"
      },
      "execution_count": null,
      "outputs": []
    },
    {
      "cell_type": "code",
      "source": [
        "cos_sim_array.shape"
      ],
      "metadata": {
        "colab": {
          "base_uri": "https://localhost:8080/"
        },
        "id": "xXSbG8Ud2Hj6",
        "outputId": "6b156a50-a858-4333-8fdf-304c9f905dc4"
      },
      "execution_count": null,
      "outputs": [
        {
          "output_type": "execute_result",
          "data": {
            "text/plain": [
              "(1, 20)"
            ]
          },
          "metadata": {},
          "execution_count": 320
        }
      ]
    },
    {
      "cell_type": "code",
      "source": [
        "index_doc_cosine = np.argmax(cos_sim_array)\n",
        "small_med_db.drug_name_side_effects_generic_name[index_doc_cosine]"
      ],
      "metadata": {
        "colab": {
          "base_uri": "https://localhost:8080/",
          "height": 142
        },
        "id": "WB7dRloB2POn",
        "outputId": "94fd998d-ef5c-4ba0-c836-7383f6014095"
      },
      "execution_count": null,
      "outputs": [
        {
          "output_type": "execute_result",
          "data": {
            "text/plain": [
              "'doxycycline, (hives, difficult breathing, swelling in your face or throat) or a severe skin reaction (fever, sore throat, burning in your eyes, skin pain, red or purple skin rash that spreads and causes blistering and peeling). Seek medical treatment if you have a serious drug reaction that can affect many parts of your body. Symptoms may include: skin rash, fever, swollen glands, flu-like symptoms, muscle aches, severe weakness, unusual bruising, or yellowing of your skin or eyes. This reaction may occur several weeks after you began using doxycycline. Doxycycline may cause serious side effects. Call your doctor at once if you have: severe stomach pain, diarrhea that is watery or bloody; throat irritation, trouble swallowing; chest pain, irregular heart rhythm, feeling short of breath; little or no urination; low white blood cell counts - fever, chills, swollen glands, body aches, weakness, pale skin, easy bruising or bleeding; severe headaches, ringing in your ears, dizziness, nausea, vision problems, pain behind your eyes; loss of appetite, upper stomach pain (that may spread to your back), tiredness, nausea or vomiting, fast heart rate, dark urine, jaundice (yellowing of the skin or eyes). Common side effects of doxycycline may include: nausea and vomiting; upset stomach; loss of appetite; mild diarrhea; skin rash or itching; darkened skin color; vaginal itching or discharge., doxycycline'"
            ],
            "application/vnd.google.colaboratory.intrinsic+json": {
              "type": "string"
            }
          },
          "metadata": {},
          "execution_count": 330
        }
      ]
    },
    {
      "cell_type": "code",
      "source": [],
      "metadata": {
        "colab": {
          "base_uri": "https://localhost:8080/",
          "height": 142
        },
        "id": "Ho5eX2zG2Vfj",
        "outputId": "47473b6b-0645-44b0-d336-b4855282bcd3"
      },
      "execution_count": null,
      "outputs": [
        {
          "output_type": "execute_result",
          "data": {
            "text/plain": [
              "'doxycycline, (hives, difficult breathing, swelling in your face or throat) or a severe skin reaction (fever, sore throat, burning in your eyes, skin pain, red or purple skin rash that spreads and causes blistering and peeling). Seek medical treatment if you have a serious drug reaction that can affect many parts of your body. Symptoms may include: skin rash, fever, swollen glands, flu-like symptoms, muscle aches, severe weakness, unusual bruising, or yellowing of your skin or eyes. This reaction may occur several weeks after you began using doxycycline. Doxycycline may cause serious side effects. Call your doctor at once if you have: severe stomach pain, diarrhea that is watery or bloody; throat irritation, trouble swallowing; chest pain, irregular heart rhythm, feeling short of breath; little or no urination; low white blood cell counts - fever, chills, swollen glands, body aches, weakness, pale skin, easy bruising or bleeding; severe headaches, ringing in your ears, dizziness, nausea, vision problems, pain behind your eyes; loss of appetite, upper stomach pain (that may spread to your back), tiredness, nausea or vomiting, fast heart rate, dark urine, jaundice (yellowing of the skin or eyes). Common side effects of doxycycline may include: nausea and vomiting; upset stomach; loss of appetite; mild diarrhea; skin rash or itching; darkened skin color; vaginal itching or discharge., doxycycline'"
            ],
            "application/vnd.google.colaboratory.intrinsic+json": {
              "type": "string"
            }
          },
          "metadata": {},
          "execution_count": 322
        }
      ]
    },
    {
      "cell_type": "code",
      "source": [
        "context = \"Question: \" + query[0] +\\\n",
        "\"\\n Answer: \" + small_med_db.drug_name_side_effects_generic_name[index_doc_cosine]"
      ],
      "metadata": {
        "id": "ZS5ON7qz2o2w"
      },
      "execution_count": null,
      "outputs": []
    },
    {
      "cell_type": "code",
      "source": [
        "prompt = f\"\"\"Here is the context: {context}\n",
        "             Using the relevant information from the context,\n",
        "             provide an answer to the query: {query}.\"\n",
        "             If the context doesn't provide \\\n",
        "             any relevant information, \\\n",
        "             answer with \\\n",
        "             [I couldn't find a good match in the \\\n",
        "             document database for your query]\n",
        "             \"\"\""
      ],
      "metadata": {
        "id": "CP2gcJBV3Gth"
      },
      "execution_count": null,
      "outputs": []
    },
    {
      "cell_type": "code",
      "source": [
        "side_effect_prompt = HumanMessagePromptTemplate(\n",
        "    prompt=PromptTemplate(\n",
        "        template=prompt,\n",
        "        input_variables=[\"context\", \"query\"],\n",
        "    )\n",
        ")\n",
        "chat_prompt_template = ChatPromptTemplate.from_messages([full_prompt])\n",
        "\n",
        "chat_prompt_template = ChatPromptTemplate.from_messages([side_effect_prompt])\n",
        "\n",
        "llm = VertexAI()\n",
        "\n",
        "chain = LLMChain(llm=llm, prompt=chat_prompt_template, verbose=True)\n",
        "\n",
        "\n",
        "llm_response = chain({\"context\":context, \"query\": query})\n",
        "\n",
        "display(llm_response)"
      ],
      "metadata": {
        "colab": {
          "base_uri": "https://localhost:8080/",
          "height": 552
        },
        "id": "i2gkjJzk3QJp",
        "outputId": "fc94d5d7-0e58-4361-d972-66de602f2336"
      },
      "execution_count": null,
      "outputs": [
        {
          "output_type": "stream",
          "name": "stdout",
          "text": [
            "\n",
            "\n",
            "\u001b[1m> Entering new LLMChain chain...\u001b[0m\n",
            "Prompt after formatting:\n",
            "\u001b[32;1m\u001b[1;3mHuman: Here is the context: Question: What is the side effect of doxycycline\n",
            " Answer: doxycycline, (hives, difficult breathing, swelling in your face or throat) or a severe skin reaction (fever, sore throat, burning in your eyes, skin pain, red or purple skin rash that spreads and causes blistering and peeling). Seek medical treatment if you have a serious drug reaction that can affect many parts of your body. Symptoms may include: skin rash, fever, swollen glands, flu-like symptoms, muscle aches, severe weakness, unusual bruising, or yellowing of your skin or eyes. This reaction may occur several weeks after you began using doxycycline. Doxycycline may cause serious side effects. Call your doctor at once if you have: severe stomach pain, diarrhea that is watery or bloody; throat irritation, trouble swallowing; chest pain, irregular heart rhythm, feeling short of breath; little or no urination; low white blood cell counts - fever, chills, swollen glands, body aches, weakness, pale skin, easy bruising or bleeding; severe headaches, ringing in your ears, dizziness, nausea, vision problems, pain behind your eyes; loss of appetite, upper stomach pain (that may spread to your back), tiredness, nausea or vomiting, fast heart rate, dark urine, jaundice (yellowing of the skin or eyes). Common side effects of doxycycline may include: nausea and vomiting; upset stomach; loss of appetite; mild diarrhea; skin rash or itching; darkened skin color; vaginal itching or discharge., doxycycline\n",
            "             Using the relevant information from the context,\n",
            "             provide an answer to the query: ['What is the side effect of doxycycline'].\"\n",
            "             If the context doesn't provide              any relevant information,              answer with              [I couldn't find a good match in the              document database for your query]\n",
            "             \u001b[0m\n",
            "\n",
            "\u001b[1m> Finished chain.\u001b[0m\n"
          ]
        },
        {
          "output_type": "display_data",
          "data": {
            "text/plain": [
              "{'context': 'Question: What is the side effect of doxycycline\\n Answer: doxycycline, (hives, difficult breathing, swelling in your face or throat) or a severe skin reaction (fever, sore throat, burning in your eyes, skin pain, red or purple skin rash that spreads and causes blistering and peeling). Seek medical treatment if you have a serious drug reaction that can affect many parts of your body. Symptoms may include: skin rash, fever, swollen glands, flu-like symptoms, muscle aches, severe weakness, unusual bruising, or yellowing of your skin or eyes. This reaction may occur several weeks after you began using doxycycline. Doxycycline may cause serious side effects. Call your doctor at once if you have: severe stomach pain, diarrhea that is watery or bloody; throat irritation, trouble swallowing; chest pain, irregular heart rhythm, feeling short of breath; little or no urination; low white blood cell counts - fever, chills, swollen glands, body aches, weakness, pale skin, easy bruising or bleeding; severe headaches, ringing in your ears, dizziness, nausea, vision problems, pain behind your eyes; loss of appetite, upper stomach pain (that may spread to your back), tiredness, nausea or vomiting, fast heart rate, dark urine, jaundice (yellowing of the skin or eyes). Common side effects of doxycycline may include: nausea and vomiting; upset stomach; loss of appetite; mild diarrhea; skin rash or itching; darkened skin color; vaginal itching or discharge., doxycycline',\n",
              " 'query': ['What is the side effect of doxycycline'],\n",
              " 'text': ' Doxycycline may cause serious side effects. Call your doctor at once if you have: severe stomach pain, diarrhea that is watery or bloody; throat irritation, trouble swallowing; chest pain, irregular heart rhythm, feeling short of breath; little or no urination; low white blood cell counts - fever, chills, swollen glands, body aches, weakness, pale skin, easy bruising or bleeding; severe headaches, ringing in your ears, dizziness, nausea, vision problems, pain behind your eyes; loss of appetite, upper stomach pain (that may spread to your back), tiredness, nausea or vomiting, fast heart rate, dark urine, jaundice ('}"
            ]
          },
          "metadata": {}
        }
      ]
    },
    {
      "cell_type": "code",
      "source": [
        "\n",
        "display(Markdown(llm_response[\"text\"]))"
      ],
      "metadata": {
        "colab": {
          "base_uri": "https://localhost:8080/",
          "height": 98
        },
        "id": "fR5ZSdAh3W_4",
        "outputId": "df1fad71-5aee-48f6-9315-c62203d0ef16"
      },
      "execution_count": null,
      "outputs": [
        {
          "output_type": "display_data",
          "data": {
            "text/plain": [
              "<IPython.core.display.Markdown object>"
            ],
            "text/markdown": " Doxycycline may cause serious side effects. Call your doctor at once if you have: severe stomach pain, diarrhea that is watery or bloody; throat irritation, trouble swallowing; chest pain, irregular heart rhythm, feeling short of breath; little or no urination; low white blood cell counts - fever, chills, swollen glands, body aches, weakness, pale skin, easy bruising or bleeding; severe headaches, ringing in your ears, dizziness, nausea, vision problems, pain behind your eyes; loss of appetite, upper stomach pain (that may spread to your back), tiredness, nausea or vomiting, fast heart rate, dark urine, jaundice ("
          },
          "metadata": {}
        }
      ]
    },
    {
      "cell_type": "code",
      "source": [
        "litellm = LiteLLM(model_engine=\"chat-bison\")\n",
        "relevance = Feedback(litellm.relevance_with_cot_reasons).on_input_output()\n",
        "feed1=Feedback(litellm.criminality_with_cot_reasons).on_output()\n",
        "feed2=Feedback(litellm.correctness_with_cot_reasons).on_output()\n",
        "feed3=Feedback(litellm.sentiment_with_cot_reasons).on_output()\n",
        "feed4=Feedback(litellm.insensitivity).on_output()\n",
        "feed5=Feedback(litellm.coherence).on_output()"
      ],
      "metadata": {
        "colab": {
          "base_uri": "https://localhost:8080/"
        },
        "id": "Cjb0MLhCDjZA",
        "outputId": "a5af8aa3-778e-4b33-9554-fa05af477c9d"
      },
      "execution_count": null,
      "outputs": [
        {
          "output_type": "stream",
          "name": "stdout",
          "text": [
            "✅ In relevance_with_cot_reasons, input prompt will be set to __record__.main_input or `Select.RecordInput` .\n",
            "✅ In relevance_with_cot_reasons, input response will be set to __record__.main_output or `Select.RecordOutput` .\n",
            "✅ In criminality_with_cot_reasons, input text will be set to __record__.main_output or `Select.RecordOutput` .\n",
            "✅ In correctness_with_cot_reasons, input text will be set to __record__.main_output or `Select.RecordOutput` .\n",
            "✅ In sentiment_with_cot_reasons, input text will be set to __record__.main_output or `Select.RecordOutput` .\n",
            "✅ In insensitivity, input text will be set to __record__.main_output or `Select.RecordOutput` .\n",
            "✅ In coherence, input text will be set to __record__.main_output or `Select.RecordOutput` .\n"
          ]
        }
      ]
    },
    {
      "cell_type": "code",
      "source": [
        "tru_recorder = TruChain(chain,app_id='MediMate',feedbacks=[relevance,feed1,feed2,feed3,feed4, feed5])"
      ],
      "metadata": {
        "id": "KQcbmUXzDuaE"
      },
      "execution_count": null,
      "outputs": []
    },
    {
      "cell_type": "code",
      "source": [
        "tru.get_records_and_feedback(app_ids=[])[0] # pass an empty list of app_ids to get all\n",
        "tru.run_dashboard() # open"
      ],
      "metadata": {
        "colab": {
          "base_uri": "https://localhost:8080/"
        },
        "id": "etTVk7JTEBMx",
        "outputId": "4a8066a9-f6a2-4cd8-e6a3-54fa3f6ae964"
      },
      "execution_count": null,
      "outputs": [
        {
          "output_type": "stream",
          "name": "stdout",
          "text": [
            "Starting dashboard ...\n",
            "npx: installed 22 in 4.427s\n",
            "\n",
            "Go to this url and submit the ip given here. your url is: https://bright-monkeys-relax.loca.lt\n",
            "\n",
            "  Submit this IP Address: 35.238.188.203\n",
            "\n"
          ]
        },
        {
          "output_type": "execute_result",
          "data": {
            "text/plain": [
              "<Popen: returncode: None args: ['streamlit', 'run', '--server.headless=True'...>"
            ]
          },
          "metadata": {},
          "execution_count": 345
        }
      ]
    },
    {
      "cell_type": "code",
      "source": [
        "tru.stop_dashboard()"
      ],
      "metadata": {
        "colab": {
          "base_uri": "https://localhost:8080/"
        },
        "id": "LAjayMPeEsqm",
        "outputId": "3bc5210d-c097-4ee0-a0df-6cd2030c3bcd"
      },
      "execution_count": null,
      "outputs": [
        {
          "output_type": "stream",
          "name": "stdout",
          "text": [
            "Dashboard closed.\n",
            "Dashboard closed.\n"
          ]
        }
      ]
    },
    {
      "cell_type": "code",
      "execution_count": null,
      "metadata": {
        "colab": {
          "base_uri": "https://localhost:8080/",
          "height": 765
        },
        "id": "o4m7tws5U5kj",
        "outputId": "20697c53-195c-45c6-a208-ccee1b81452f"
      },
      "outputs": [
        {
          "output_type": "stream",
          "name": "stdout",
          "text": [
            "\n",
            "\n",
            "\u001b[1m> Entering new LLMChain chain...\u001b[0m\n",
            "Prompt after formatting:\n",
            "\u001b[32;1m\u001b[1;3mHuman: Here is the context: Question: What is the side effect of doxycycline\n",
            " Answer: doxycycline, (hives, difficult breathing, swelling in your face or throat) or a severe skin reaction (fever, sore throat, burning in your eyes, skin pain, red or purple skin rash that spreads and causes blistering and peeling). Seek medical treatment if you have a serious drug reaction that can affect many parts of your body. Symptoms may include: skin rash, fever, swollen glands, flu-like symptoms, muscle aches, severe weakness, unusual bruising, or yellowing of your skin or eyes. This reaction may occur several weeks after you began using doxycycline. Doxycycline may cause serious side effects. Call your doctor at once if you have: severe stomach pain, diarrhea that is watery or bloody; throat irritation, trouble swallowing; chest pain, irregular heart rhythm, feeling short of breath; little or no urination; low white blood cell counts - fever, chills, swollen glands, body aches, weakness, pale skin, easy bruising or bleeding; severe headaches, ringing in your ears, dizziness, nausea, vision problems, pain behind your eyes; loss of appetite, upper stomach pain (that may spread to your back), tiredness, nausea or vomiting, fast heart rate, dark urine, jaundice (yellowing of the skin or eyes). Common side effects of doxycycline may include: nausea and vomiting; upset stomach; loss of appetite; mild diarrhea; skin rash or itching; darkened skin color; vaginal itching or discharge., doxycycline\n",
            "             Using the relevant information from the context,\n",
            "             provide an answer to the query: ['What is the side effect of doxycycline'].\"\n",
            "             If the context doesn't provide              any relevant information,              answer with              [I couldn't find a good match in the              document database for your query]\n",
            "             \u001b[0m\n"
          ]
        },
        {
          "output_type": "stream",
          "name": "stderr",
          "text": [
            "ERROR:trulens_eval.feedback.provider.endpoint.base:litellm request failed <class 'litellm.exceptions.APIError'>=VertexAIException - 429 Quota exceeded for aiplatform.googleapis.com/online_prediction_requests_per_base_model with base model: chat-bison. Please submit a quota increase request. https://cloud.google.com/vertex-ai/docs/quotas.. Retries remaining=2.\n"
          ]
        },
        {
          "output_type": "stream",
          "name": "stdout",
          "text": [
            "\n",
            "\u001b[1;31mGive Feedback / Get Help: https://github.com/BerriAI/litellm/issues/new\u001b[0m\n",
            "LiteLLM.Info: If you need to debug this error, use `litellm.set_verbose=True'.\n",
            "\n"
          ]
        },
        {
          "output_type": "stream",
          "name": "stderr",
          "text": [
            "WARNING:trulens_eval.tru_chain:langchain app has no inputs. `main_input` will be `None`.\n"
          ]
        },
        {
          "output_type": "stream",
          "name": "stdout",
          "text": [
            "\n",
            "\u001b[1m> Finished chain.\u001b[0m\n"
          ]
        },
        {
          "output_type": "stream",
          "name": "stderr",
          "text": [
            "ERROR:trulens_eval.feedback.provider.endpoint.base:litellm request failed <class 'litellm.exceptions.APIError'>=VertexAIException - 429 Quota exceeded for aiplatform.googleapis.com/online_prediction_requests_per_base_model with base model: chat-bison. Please submit a quota increase request. https://cloud.google.com/vertex-ai/docs/quotas.. Retries remaining=0.\n",
            "ERROR:trulens_eval.feedback.provider.endpoint.base:litellm request failed <class 'RuntimeError'>=API litellm request failed 4 time(s).. Retries remaining=2.\n"
          ]
        },
        {
          "output_type": "stream",
          "name": "stdout",
          "text": [
            "\n",
            "\u001b[1;31mGive Feedback / Get Help: https://github.com/BerriAI/litellm/issues/new\u001b[0m\n",
            "LiteLLM.Info: If you need to debug this error, use `litellm.set_verbose=True'.\n",
            "\n"
          ]
        },
        {
          "output_type": "display_data",
          "data": {
            "text/plain": [
              "{'context': 'Question: What is the side effect of doxycycline\\n Answer: doxycycline, (hives, difficult breathing, swelling in your face or throat) or a severe skin reaction (fever, sore throat, burning in your eyes, skin pain, red or purple skin rash that spreads and causes blistering and peeling). Seek medical treatment if you have a serious drug reaction that can affect many parts of your body. Symptoms may include: skin rash, fever, swollen glands, flu-like symptoms, muscle aches, severe weakness, unusual bruising, or yellowing of your skin or eyes. This reaction may occur several weeks after you began using doxycycline. Doxycycline may cause serious side effects. Call your doctor at once if you have: severe stomach pain, diarrhea that is watery or bloody; throat irritation, trouble swallowing; chest pain, irregular heart rhythm, feeling short of breath; little or no urination; low white blood cell counts - fever, chills, swollen glands, body aches, weakness, pale skin, easy bruising or bleeding; severe headaches, ringing in your ears, dizziness, nausea, vision problems, pain behind your eyes; loss of appetite, upper stomach pain (that may spread to your back), tiredness, nausea or vomiting, fast heart rate, dark urine, jaundice (yellowing of the skin or eyes). Common side effects of doxycycline may include: nausea and vomiting; upset stomach; loss of appetite; mild diarrhea; skin rash or itching; darkened skin color; vaginal itching or discharge., doxycycline',\n",
              " 'query': ['What is the side effect of doxycycline'],\n",
              " 'text': ' Doxycycline may cause serious side effects. Call your doctor at once if you have: severe stomach pain, diarrhea that is watery or bloody; throat irritation, trouble swallowing; chest pain, irregular heart rhythm, feeling short of breath; little or no urination; low white blood cell counts - fever, chills, swollen glands, body aches, weakness, pale skin, easy bruising or bleeding; severe headaches, ringing in your ears, dizziness, nausea, vision problems, pain behind your eyes; loss of appetite, upper stomach pain (that may spread to your back), tiredness, nausea or vomiting, fast heart rate, dark urine, jaundice ('}"
            ]
          },
          "metadata": {}
        }
      ],
      "source": [
        "with tru_recorder as recording:\n",
        "  llm_response = chain({\"context\":context, \"query\": query})\n",
        "display(llm_response)\n",
        "\n"
      ]
    },
    {
      "cell_type": "code",
      "execution_count": null,
      "metadata": {
        "colab": {
          "base_uri": "https://localhost:8080/",
          "height": 502
        },
        "id": "oQJ0SxBHVGuE",
        "outputId": "4321dab9-ccac-452d-fd96-0fbf0e0873fa"
      },
      "outputs": [
        {
          "output_type": "execute_result",
          "data": {
            "text/plain": [
              "     app_id                                           app_json  \\\n",
              "0  MediMate  {\"app_id\": \"MediMate\", \"tags\": \"-\", \"metadata\"...   \n",
              "1  MediMate  {\"app_id\": \"MediMate\", \"tags\": \"-\", \"metadata\"...   \n",
              "2  MediMate  {\"app_id\": \"MediMate\", \"tags\": \"-\", \"metadata\"...   \n",
              "3  MediMate  {\"app_id\": \"MediMate\", \"tags\": \"-\", \"metadata\"...   \n",
              "\n",
              "                             type  \\\n",
              "0  LLMChain(langchain.chains.llm)   \n",
              "1  LLMChain(langchain.chains.llm)   \n",
              "2  LLMChain(langchain.chains.llm)   \n",
              "3  LLMChain(langchain.chains.llm)   \n",
              "\n",
              "                                      record_id input  \\\n",
              "0  record_hash_e8556774a0cd597beed898e1bf6854c7  null   \n",
              "1  record_hash_7626dd9d3546644dc0c47b03f08fe882  null   \n",
              "2  record_hash_e4f0cb16b22ce0b46c5d48ddf534b770  null   \n",
              "3  record_hash_381c7285ab1f04a2eb10d41e511ae56b  null   \n",
              "\n",
              "                                              output tags  \\\n",
              "0  \" Doxycycline may cause serious side effects. ...    -   \n",
              "1  \" Doxycycline may cause several side effects, ...    -   \n",
              "2  \" Doxycycline may cause serious side effects. ...    -   \n",
              "3  \" Doxycycline may cause serious side effects. ...    -   \n",
              "\n",
              "                                         record_json  \\\n",
              "0  {\"record_id\": \"record_hash_e8556774a0cd597beed...   \n",
              "1  {\"record_id\": \"record_hash_7626dd9d3546644dc0c...   \n",
              "2  {\"record_id\": \"record_hash_e4f0cb16b22ce0b46c5...   \n",
              "3  {\"record_id\": \"record_hash_381c7285ab1f04a2eb1...   \n",
              "\n",
              "                                           cost_json  \\\n",
              "0  {\"n_requests\": 0, \"n_successful_requests\": 0, ...   \n",
              "1  {\"n_requests\": 0, \"n_successful_requests\": 0, ...   \n",
              "2  {\"n_requests\": 0, \"n_successful_requests\": 0, ...   \n",
              "3  {\"n_requests\": 0, \"n_successful_requests\": 0, ...   \n",
              "\n",
              "                                           perf_json  ...  \\\n",
              "0  {\"start_time\": \"2023-12-08T15:38:24.006867\", \"...  ...   \n",
              "1  {\"start_time\": \"2023-12-08T15:38:58.325658\", \"...  ...   \n",
              "2  {\"start_time\": \"2023-12-08T15:39:28.038079\", \"...  ...   \n",
              "3  {\"start_time\": \"2023-12-08T15:39:36.344881\", \"...  ...   \n",
              "\n",
              "  sentiment_with_cot_reasons  \\\n",
              "0                        0.0   \n",
              "1                        NaN   \n",
              "2                        0.0   \n",
              "3                        NaN   \n",
              "\n",
              "                    relevance_with_cot_reasons_calls  \\\n",
              "0  [{'args': {'prompt': None, 'response': ' Doxyc...   \n",
              "1                                                 []   \n",
              "2  [{'args': {'prompt': None, 'response': ' Doxyc...   \n",
              "3                                                NaN   \n",
              "\n",
              "                                 insensitivity_calls  \\\n",
              "0  [{'args': {'text': ' Doxycycline may cause ser...   \n",
              "1                                                 []   \n",
              "2                                                NaN   \n",
              "3  [{'args': {'text': ' Doxycycline may cause ser...   \n",
              "\n",
              "                  criminality_with_cot_reasons_calls  \\\n",
              "0  [{'args': {'text': ' Doxycycline may cause ser...   \n",
              "1  [{'args': {'text': ' Doxycycline may cause sev...   \n",
              "2  [{'args': {'text': ' Doxycycline may cause ser...   \n",
              "3                                                NaN   \n",
              "\n",
              "                                     coherence_calls  \\\n",
              "0  [{'args': {'text': ' Doxycycline may cause ser...   \n",
              "1                                                 []   \n",
              "2  [{'args': {'text': ' Doxycycline may cause ser...   \n",
              "3                                                NaN   \n",
              "\n",
              "                  correctness_with_cot_reasons_calls  \\\n",
              "0  [{'args': {'text': ' Doxycycline may cause ser...   \n",
              "1                                                NaN   \n",
              "2                                                NaN   \n",
              "3                                                NaN   \n",
              "\n",
              "                    sentiment_with_cot_reasons_calls latency total_tokens  \\\n",
              "0  [{'args': {'text': ' Doxycycline may cause ser...       2            0   \n",
              "1                                                 []       2            0   \n",
              "2  [{'args': {'text': ' Doxycycline may cause ser...       2            0   \n",
              "3                                                NaN       2            0   \n",
              "\n",
              "  total_cost  \n",
              "0        0.0  \n",
              "1        0.0  \n",
              "2        0.0  \n",
              "3        0.0  \n",
              "\n",
              "[4 rows x 26 columns]"
            ],
            "text/html": [
              "\n",
              "  <div id=\"df-f80f5615-b8c9-46c4-a197-fe1c0f89057a\" class=\"colab-df-container\">\n",
              "    <div>\n",
              "<style scoped>\n",
              "    .dataframe tbody tr th:only-of-type {\n",
              "        vertical-align: middle;\n",
              "    }\n",
              "\n",
              "    .dataframe tbody tr th {\n",
              "        vertical-align: top;\n",
              "    }\n",
              "\n",
              "    .dataframe thead th {\n",
              "        text-align: right;\n",
              "    }\n",
              "</style>\n",
              "<table border=\"1\" class=\"dataframe\">\n",
              "  <thead>\n",
              "    <tr style=\"text-align: right;\">\n",
              "      <th></th>\n",
              "      <th>app_id</th>\n",
              "      <th>app_json</th>\n",
              "      <th>type</th>\n",
              "      <th>record_id</th>\n",
              "      <th>input</th>\n",
              "      <th>output</th>\n",
              "      <th>tags</th>\n",
              "      <th>record_json</th>\n",
              "      <th>cost_json</th>\n",
              "      <th>perf_json</th>\n",
              "      <th>...</th>\n",
              "      <th>sentiment_with_cot_reasons</th>\n",
              "      <th>relevance_with_cot_reasons_calls</th>\n",
              "      <th>insensitivity_calls</th>\n",
              "      <th>criminality_with_cot_reasons_calls</th>\n",
              "      <th>coherence_calls</th>\n",
              "      <th>correctness_with_cot_reasons_calls</th>\n",
              "      <th>sentiment_with_cot_reasons_calls</th>\n",
              "      <th>latency</th>\n",
              "      <th>total_tokens</th>\n",
              "      <th>total_cost</th>\n",
              "    </tr>\n",
              "  </thead>\n",
              "  <tbody>\n",
              "    <tr>\n",
              "      <th>0</th>\n",
              "      <td>MediMate</td>\n",
              "      <td>{\"app_id\": \"MediMate\", \"tags\": \"-\", \"metadata\"...</td>\n",
              "      <td>LLMChain(langchain.chains.llm)</td>\n",
              "      <td>record_hash_e8556774a0cd597beed898e1bf6854c7</td>\n",
              "      <td>null</td>\n",
              "      <td>\" Doxycycline may cause serious side effects. ...</td>\n",
              "      <td>-</td>\n",
              "      <td>{\"record_id\": \"record_hash_e8556774a0cd597beed...</td>\n",
              "      <td>{\"n_requests\": 0, \"n_successful_requests\": 0, ...</td>\n",
              "      <td>{\"start_time\": \"2023-12-08T15:38:24.006867\", \"...</td>\n",
              "      <td>...</td>\n",
              "      <td>0.0</td>\n",
              "      <td>[{'args': {'prompt': None, 'response': ' Doxyc...</td>\n",
              "      <td>[{'args': {'text': ' Doxycycline may cause ser...</td>\n",
              "      <td>[{'args': {'text': ' Doxycycline may cause ser...</td>\n",
              "      <td>[{'args': {'text': ' Doxycycline may cause ser...</td>\n",
              "      <td>[{'args': {'text': ' Doxycycline may cause ser...</td>\n",
              "      <td>[{'args': {'text': ' Doxycycline may cause ser...</td>\n",
              "      <td>2</td>\n",
              "      <td>0</td>\n",
              "      <td>0.0</td>\n",
              "    </tr>\n",
              "    <tr>\n",
              "      <th>1</th>\n",
              "      <td>MediMate</td>\n",
              "      <td>{\"app_id\": \"MediMate\", \"tags\": \"-\", \"metadata\"...</td>\n",
              "      <td>LLMChain(langchain.chains.llm)</td>\n",
              "      <td>record_hash_7626dd9d3546644dc0c47b03f08fe882</td>\n",
              "      <td>null</td>\n",
              "      <td>\" Doxycycline may cause several side effects, ...</td>\n",
              "      <td>-</td>\n",
              "      <td>{\"record_id\": \"record_hash_7626dd9d3546644dc0c...</td>\n",
              "      <td>{\"n_requests\": 0, \"n_successful_requests\": 0, ...</td>\n",
              "      <td>{\"start_time\": \"2023-12-08T15:38:58.325658\", \"...</td>\n",
              "      <td>...</td>\n",
              "      <td>NaN</td>\n",
              "      <td>[]</td>\n",
              "      <td>[]</td>\n",
              "      <td>[{'args': {'text': ' Doxycycline may cause sev...</td>\n",
              "      <td>[]</td>\n",
              "      <td>NaN</td>\n",
              "      <td>[]</td>\n",
              "      <td>2</td>\n",
              "      <td>0</td>\n",
              "      <td>0.0</td>\n",
              "    </tr>\n",
              "    <tr>\n",
              "      <th>2</th>\n",
              "      <td>MediMate</td>\n",
              "      <td>{\"app_id\": \"MediMate\", \"tags\": \"-\", \"metadata\"...</td>\n",
              "      <td>LLMChain(langchain.chains.llm)</td>\n",
              "      <td>record_hash_e4f0cb16b22ce0b46c5d48ddf534b770</td>\n",
              "      <td>null</td>\n",
              "      <td>\" Doxycycline may cause serious side effects. ...</td>\n",
              "      <td>-</td>\n",
              "      <td>{\"record_id\": \"record_hash_e4f0cb16b22ce0b46c5...</td>\n",
              "      <td>{\"n_requests\": 0, \"n_successful_requests\": 0, ...</td>\n",
              "      <td>{\"start_time\": \"2023-12-08T15:39:28.038079\", \"...</td>\n",
              "      <td>...</td>\n",
              "      <td>0.0</td>\n",
              "      <td>[{'args': {'prompt': None, 'response': ' Doxyc...</td>\n",
              "      <td>NaN</td>\n",
              "      <td>[{'args': {'text': ' Doxycycline may cause ser...</td>\n",
              "      <td>[{'args': {'text': ' Doxycycline may cause ser...</td>\n",
              "      <td>NaN</td>\n",
              "      <td>[{'args': {'text': ' Doxycycline may cause ser...</td>\n",
              "      <td>2</td>\n",
              "      <td>0</td>\n",
              "      <td>0.0</td>\n",
              "    </tr>\n",
              "    <tr>\n",
              "      <th>3</th>\n",
              "      <td>MediMate</td>\n",
              "      <td>{\"app_id\": \"MediMate\", \"tags\": \"-\", \"metadata\"...</td>\n",
              "      <td>LLMChain(langchain.chains.llm)</td>\n",
              "      <td>record_hash_381c7285ab1f04a2eb10d41e511ae56b</td>\n",
              "      <td>null</td>\n",
              "      <td>\" Doxycycline may cause serious side effects. ...</td>\n",
              "      <td>-</td>\n",
              "      <td>{\"record_id\": \"record_hash_381c7285ab1f04a2eb1...</td>\n",
              "      <td>{\"n_requests\": 0, \"n_successful_requests\": 0, ...</td>\n",
              "      <td>{\"start_time\": \"2023-12-08T15:39:36.344881\", \"...</td>\n",
              "      <td>...</td>\n",
              "      <td>NaN</td>\n",
              "      <td>NaN</td>\n",
              "      <td>[{'args': {'text': ' Doxycycline may cause ser...</td>\n",
              "      <td>NaN</td>\n",
              "      <td>NaN</td>\n",
              "      <td>NaN</td>\n",
              "      <td>NaN</td>\n",
              "      <td>2</td>\n",
              "      <td>0</td>\n",
              "      <td>0.0</td>\n",
              "    </tr>\n",
              "  </tbody>\n",
              "</table>\n",
              "<p>4 rows × 26 columns</p>\n",
              "</div>\n",
              "    <div class=\"colab-df-buttons\">\n",
              "\n",
              "  <div class=\"colab-df-container\">\n",
              "    <button class=\"colab-df-convert\" onclick=\"convertToInteractive('df-f80f5615-b8c9-46c4-a197-fe1c0f89057a')\"\n",
              "            title=\"Convert this dataframe to an interactive table.\"\n",
              "            style=\"display:none;\">\n",
              "\n",
              "  <svg xmlns=\"http://www.w3.org/2000/svg\" height=\"24px\" viewBox=\"0 -960 960 960\">\n",
              "    <path d=\"M120-120v-720h720v720H120Zm60-500h600v-160H180v160Zm220 220h160v-160H400v160Zm0 220h160v-160H400v160ZM180-400h160v-160H180v160Zm440 0h160v-160H620v160ZM180-180h160v-160H180v160Zm440 0h160v-160H620v160Z\"/>\n",
              "  </svg>\n",
              "    </button>\n",
              "\n",
              "  <style>\n",
              "    .colab-df-container {\n",
              "      display:flex;\n",
              "      gap: 12px;\n",
              "    }\n",
              "\n",
              "    .colab-df-convert {\n",
              "      background-color: #E8F0FE;\n",
              "      border: none;\n",
              "      border-radius: 50%;\n",
              "      cursor: pointer;\n",
              "      display: none;\n",
              "      fill: #1967D2;\n",
              "      height: 32px;\n",
              "      padding: 0 0 0 0;\n",
              "      width: 32px;\n",
              "    }\n",
              "\n",
              "    .colab-df-convert:hover {\n",
              "      background-color: #E2EBFA;\n",
              "      box-shadow: 0px 1px 2px rgba(60, 64, 67, 0.3), 0px 1px 3px 1px rgba(60, 64, 67, 0.15);\n",
              "      fill: #174EA6;\n",
              "    }\n",
              "\n",
              "    .colab-df-buttons div {\n",
              "      margin-bottom: 4px;\n",
              "    }\n",
              "\n",
              "    [theme=dark] .colab-df-convert {\n",
              "      background-color: #3B4455;\n",
              "      fill: #D2E3FC;\n",
              "    }\n",
              "\n",
              "    [theme=dark] .colab-df-convert:hover {\n",
              "      background-color: #434B5C;\n",
              "      box-shadow: 0px 1px 3px 1px rgba(0, 0, 0, 0.15);\n",
              "      filter: drop-shadow(0px 1px 2px rgba(0, 0, 0, 0.3));\n",
              "      fill: #FFFFFF;\n",
              "    }\n",
              "  </style>\n",
              "\n",
              "    <script>\n",
              "      const buttonEl =\n",
              "        document.querySelector('#df-f80f5615-b8c9-46c4-a197-fe1c0f89057a button.colab-df-convert');\n",
              "      buttonEl.style.display =\n",
              "        google.colab.kernel.accessAllowed ? 'block' : 'none';\n",
              "\n",
              "      async function convertToInteractive(key) {\n",
              "        const element = document.querySelector('#df-f80f5615-b8c9-46c4-a197-fe1c0f89057a');\n",
              "        const dataTable =\n",
              "          await google.colab.kernel.invokeFunction('convertToInteractive',\n",
              "                                                    [key], {});\n",
              "        if (!dataTable) return;\n",
              "\n",
              "        const docLinkHtml = 'Like what you see? Visit the ' +\n",
              "          '<a target=\"_blank\" href=https://colab.research.google.com/notebooks/data_table.ipynb>data table notebook</a>'\n",
              "          + ' to learn more about interactive tables.';\n",
              "        element.innerHTML = '';\n",
              "        dataTable['output_type'] = 'display_data';\n",
              "        await google.colab.output.renderOutput(dataTable, element);\n",
              "        const docLink = document.createElement('div');\n",
              "        docLink.innerHTML = docLinkHtml;\n",
              "        element.appendChild(docLink);\n",
              "      }\n",
              "    </script>\n",
              "  </div>\n",
              "\n",
              "\n",
              "<div id=\"df-c0a6d871-fb0d-4227-a001-b60ec45f1827\">\n",
              "  <button class=\"colab-df-quickchart\" onclick=\"quickchart('df-c0a6d871-fb0d-4227-a001-b60ec45f1827')\"\n",
              "            title=\"Suggest charts\"\n",
              "            style=\"display:none;\">\n",
              "\n",
              "<svg xmlns=\"http://www.w3.org/2000/svg\" height=\"24px\"viewBox=\"0 0 24 24\"\n",
              "     width=\"24px\">\n",
              "    <g>\n",
              "        <path d=\"M19 3H5c-1.1 0-2 .9-2 2v14c0 1.1.9 2 2 2h14c1.1 0 2-.9 2-2V5c0-1.1-.9-2-2-2zM9 17H7v-7h2v7zm4 0h-2V7h2v10zm4 0h-2v-4h2v4z\"/>\n",
              "    </g>\n",
              "</svg>\n",
              "  </button>\n",
              "\n",
              "<style>\n",
              "  .colab-df-quickchart {\n",
              "      --bg-color: #E8F0FE;\n",
              "      --fill-color: #1967D2;\n",
              "      --hover-bg-color: #E2EBFA;\n",
              "      --hover-fill-color: #174EA6;\n",
              "      --disabled-fill-color: #AAA;\n",
              "      --disabled-bg-color: #DDD;\n",
              "  }\n",
              "\n",
              "  [theme=dark] .colab-df-quickchart {\n",
              "      --bg-color: #3B4455;\n",
              "      --fill-color: #D2E3FC;\n",
              "      --hover-bg-color: #434B5C;\n",
              "      --hover-fill-color: #FFFFFF;\n",
              "      --disabled-bg-color: #3B4455;\n",
              "      --disabled-fill-color: #666;\n",
              "  }\n",
              "\n",
              "  .colab-df-quickchart {\n",
              "    background-color: var(--bg-color);\n",
              "    border: none;\n",
              "    border-radius: 50%;\n",
              "    cursor: pointer;\n",
              "    display: none;\n",
              "    fill: var(--fill-color);\n",
              "    height: 32px;\n",
              "    padding: 0;\n",
              "    width: 32px;\n",
              "  }\n",
              "\n",
              "  .colab-df-quickchart:hover {\n",
              "    background-color: var(--hover-bg-color);\n",
              "    box-shadow: 0 1px 2px rgba(60, 64, 67, 0.3), 0 1px 3px 1px rgba(60, 64, 67, 0.15);\n",
              "    fill: var(--button-hover-fill-color);\n",
              "  }\n",
              "\n",
              "  .colab-df-quickchart-complete:disabled,\n",
              "  .colab-df-quickchart-complete:disabled:hover {\n",
              "    background-color: var(--disabled-bg-color);\n",
              "    fill: var(--disabled-fill-color);\n",
              "    box-shadow: none;\n",
              "  }\n",
              "\n",
              "  .colab-df-spinner {\n",
              "    border: 2px solid var(--fill-color);\n",
              "    border-color: transparent;\n",
              "    border-bottom-color: var(--fill-color);\n",
              "    animation:\n",
              "      spin 1s steps(1) infinite;\n",
              "  }\n",
              "\n",
              "  @keyframes spin {\n",
              "    0% {\n",
              "      border-color: transparent;\n",
              "      border-bottom-color: var(--fill-color);\n",
              "      border-left-color: var(--fill-color);\n",
              "    }\n",
              "    20% {\n",
              "      border-color: transparent;\n",
              "      border-left-color: var(--fill-color);\n",
              "      border-top-color: var(--fill-color);\n",
              "    }\n",
              "    30% {\n",
              "      border-color: transparent;\n",
              "      border-left-color: var(--fill-color);\n",
              "      border-top-color: var(--fill-color);\n",
              "      border-right-color: var(--fill-color);\n",
              "    }\n",
              "    40% {\n",
              "      border-color: transparent;\n",
              "      border-right-color: var(--fill-color);\n",
              "      border-top-color: var(--fill-color);\n",
              "    }\n",
              "    60% {\n",
              "      border-color: transparent;\n",
              "      border-right-color: var(--fill-color);\n",
              "    }\n",
              "    80% {\n",
              "      border-color: transparent;\n",
              "      border-right-color: var(--fill-color);\n",
              "      border-bottom-color: var(--fill-color);\n",
              "    }\n",
              "    90% {\n",
              "      border-color: transparent;\n",
              "      border-bottom-color: var(--fill-color);\n",
              "    }\n",
              "  }\n",
              "</style>\n",
              "\n",
              "  <script>\n",
              "    async function quickchart(key) {\n",
              "      const quickchartButtonEl =\n",
              "        document.querySelector('#' + key + ' button');\n",
              "      quickchartButtonEl.disabled = true;  // To prevent multiple clicks.\n",
              "      quickchartButtonEl.classList.add('colab-df-spinner');\n",
              "      try {\n",
              "        const charts = await google.colab.kernel.invokeFunction(\n",
              "            'suggestCharts', [key], {});\n",
              "      } catch (error) {\n",
              "        console.error('Error during call to suggestCharts:', error);\n",
              "      }\n",
              "      quickchartButtonEl.classList.remove('colab-df-spinner');\n",
              "      quickchartButtonEl.classList.add('colab-df-quickchart-complete');\n",
              "    }\n",
              "    (() => {\n",
              "      let quickchartButtonEl =\n",
              "        document.querySelector('#df-c0a6d871-fb0d-4227-a001-b60ec45f1827 button');\n",
              "      quickchartButtonEl.style.display =\n",
              "        google.colab.kernel.accessAllowed ? 'block' : 'none';\n",
              "    })();\n",
              "  </script>\n",
              "</div>\n",
              "\n",
              "    </div>\n",
              "  </div>\n"
            ]
          },
          "metadata": {},
          "execution_count": 353
        }
      ],
      "source": [
        "tru.get_records_and_feedback(app_ids=[])[0]"
      ]
    },
    {
      "cell_type": "markdown",
      "metadata": {
        "id": "NU5M1uppVSvA"
      },
      "source": [
        "Explore in a Dashboard\n"
      ]
    },
    {
      "cell_type": "markdown",
      "metadata": {
        "id": "GIazVhTTVS67"
      },
      "source": []
    },
    {
      "cell_type": "code",
      "execution_count": null,
      "metadata": {
        "colab": {
          "base_uri": "https://localhost:8080/"
        },
        "id": "YRT7rE-OVNQP",
        "outputId": "7ed5337a-4a42-4d16-c56f-1d39f992ec01"
      },
      "outputs": [
        {
          "name": "stdout",
          "output_type": "stream",
          "text": [
            "Starting dashboard ...\n",
            "npx: installed 22 in 5.663s\n",
            "\n",
            "Go to this url and submit the ip given here. your url is: https://big-nights-walk.loca.lt\n",
            "\n",
            "  Submit this IP Address: 34.16.134.141\n",
            "\n"
          ]
        },
        {
          "data": {
            "text/plain": [
              "<Popen: returncode: None args: ['streamlit', 'run', '--server.headless=True'...>"
            ]
          },
          "execution_count": 92,
          "metadata": {},
          "output_type": "execute_result"
        }
      ],
      "source": [
        "tru.run_dashboard()"
      ]
    },
    {
      "cell_type": "code",
      "execution_count": null,
      "metadata": {
        "colab": {
          "base_uri": "https://localhost:8080/"
        },
        "id": "we9YzgpeVYF4",
        "outputId": "d4391ebe-141b-4937-a6e3-dd5611eb93ae"
      },
      "outputs": [
        {
          "name": "stdout",
          "output_type": "stream",
          "text": [
            "Dashboard closed.Dashboard closed.\n",
            "\n"
          ]
        }
      ],
      "source": [
        "tru.stop_dashboard() # stop if needed"
      ]
    },
    {
      "cell_type": "code",
      "execution_count": null,
      "metadata": {
        "colab": {
          "base_uri": "https://localhost:8080/",
          "height": 205
        },
        "id": "3CcDAireV5lt",
        "outputId": "5be2b15e-89b9-4043-99a5-5f04df7cddf8"
      },
      "outputs": [
        {
          "data": {
            "text/html": [
              "\n",
              "  <div id=\"df-cff3b039-94a8-482b-ab18-e83961f83392\" class=\"colab-df-container\">\n",
              "    <div>\n",
              "<style scoped>\n",
              "    .dataframe tbody tr th:only-of-type {\n",
              "        vertical-align: middle;\n",
              "    }\n",
              "\n",
              "    .dataframe tbody tr th {\n",
              "        vertical-align: top;\n",
              "    }\n",
              "\n",
              "    .dataframe thead th {\n",
              "        text-align: right;\n",
              "    }\n",
              "</style>\n",
              "<table border=\"1\" class=\"dataframe\">\n",
              "  <thead>\n",
              "    <tr style=\"text-align: right;\">\n",
              "      <th></th>\n",
              "      <th>app_id</th>\n",
              "      <th>app_json</th>\n",
              "      <th>type</th>\n",
              "      <th>record_id</th>\n",
              "      <th>input</th>\n",
              "      <th>output</th>\n",
              "      <th>tags</th>\n",
              "      <th>record_json</th>\n",
              "      <th>cost_json</th>\n",
              "      <th>perf_json</th>\n",
              "      <th>ts</th>\n",
              "      <th>relevance_with_cot_reasons</th>\n",
              "      <th>relevance_with_cot_reasons_calls</th>\n",
              "      <th>latency</th>\n",
              "      <th>total_tokens</th>\n",
              "      <th>total_cost</th>\n",
              "    </tr>\n",
              "  </thead>\n",
              "  <tbody>\n",
              "    <tr>\n",
              "      <th>0</th>\n",
              "      <td>Chain1_ChatApplication</td>\n",
              "      <td>{\"app_id\": \"Chain1_ChatApplication\", \"tags\": \"...</td>\n",
              "      <td>LLMChain(langchain.chains.llm)</td>\n",
              "      <td>record_hash_0d331e4479bf5a18a21ab49cd4bc61f7</td>\n",
              "      <td>\"\\u062f\\u0643\\u062a\\u0640\\u0648\\u0631\\n\\u0645\\...</td>\n",
              "      <td>\" ```python\\n{\\n    \\\"Lubricant Eye Drops E.D....</td>\n",
              "      <td>-</td>\n",
              "      <td>{\"record_id\": \"record_hash_0d331e4479bf5a18a21...</td>\n",
              "      <td>{\"n_requests\": 0, \"n_successful_requests\": 0, ...</td>\n",
              "      <td>{\"start_time\": \"2023-12-07T22:09:46.968724\", \"...</td>\n",
              "      <td>2023-12-07T22:09:49.136758</td>\n",
              "      <td>1.0</td>\n",
              "      <td>[{'args': {'prompt': 'دكتـور\n",
              "معـاذ عطيتـو\n",
              "طبيب...</td>\n",
              "      <td>2</td>\n",
              "      <td>0</td>\n",
              "      <td>0.0</td>\n",
              "    </tr>\n",
              "  </tbody>\n",
              "</table>\n",
              "</div>\n",
              "    <div class=\"colab-df-buttons\">\n",
              "\n",
              "  <div class=\"colab-df-container\">\n",
              "    <button class=\"colab-df-convert\" onclick=\"convertToInteractive('df-cff3b039-94a8-482b-ab18-e83961f83392')\"\n",
              "            title=\"Convert this dataframe to an interactive table.\"\n",
              "            style=\"display:none;\">\n",
              "\n",
              "  <svg xmlns=\"http://www.w3.org/2000/svg\" height=\"24px\" viewBox=\"0 -960 960 960\">\n",
              "    <path d=\"M120-120v-720h720v720H120Zm60-500h600v-160H180v160Zm220 220h160v-160H400v160Zm0 220h160v-160H400v160ZM180-400h160v-160H180v160Zm440 0h160v-160H620v160ZM180-180h160v-160H180v160Zm440 0h160v-160H620v160Z\"/>\n",
              "  </svg>\n",
              "    </button>\n",
              "\n",
              "  <style>\n",
              "    .colab-df-container {\n",
              "      display:flex;\n",
              "      gap: 12px;\n",
              "    }\n",
              "\n",
              "    .colab-df-convert {\n",
              "      background-color: #E8F0FE;\n",
              "      border: none;\n",
              "      border-radius: 50%;\n",
              "      cursor: pointer;\n",
              "      display: none;\n",
              "      fill: #1967D2;\n",
              "      height: 32px;\n",
              "      padding: 0 0 0 0;\n",
              "      width: 32px;\n",
              "    }\n",
              "\n",
              "    .colab-df-convert:hover {\n",
              "      background-color: #E2EBFA;\n",
              "      box-shadow: 0px 1px 2px rgba(60, 64, 67, 0.3), 0px 1px 3px 1px rgba(60, 64, 67, 0.15);\n",
              "      fill: #174EA6;\n",
              "    }\n",
              "\n",
              "    .colab-df-buttons div {\n",
              "      margin-bottom: 4px;\n",
              "    }\n",
              "\n",
              "    [theme=dark] .colab-df-convert {\n",
              "      background-color: #3B4455;\n",
              "      fill: #D2E3FC;\n",
              "    }\n",
              "\n",
              "    [theme=dark] .colab-df-convert:hover {\n",
              "      background-color: #434B5C;\n",
              "      box-shadow: 0px 1px 3px 1px rgba(0, 0, 0, 0.15);\n",
              "      filter: drop-shadow(0px 1px 2px rgba(0, 0, 0, 0.3));\n",
              "      fill: #FFFFFF;\n",
              "    }\n",
              "  </style>\n",
              "\n",
              "    <script>\n",
              "      const buttonEl =\n",
              "        document.querySelector('#df-cff3b039-94a8-482b-ab18-e83961f83392 button.colab-df-convert');\n",
              "      buttonEl.style.display =\n",
              "        google.colab.kernel.accessAllowed ? 'block' : 'none';\n",
              "\n",
              "      async function convertToInteractive(key) {\n",
              "        const element = document.querySelector('#df-cff3b039-94a8-482b-ab18-e83961f83392');\n",
              "        const dataTable =\n",
              "          await google.colab.kernel.invokeFunction('convertToInteractive',\n",
              "                                                    [key], {});\n",
              "        if (!dataTable) return;\n",
              "\n",
              "        const docLinkHtml = 'Like what you see? Visit the ' +\n",
              "          '<a target=\"_blank\" href=https://colab.research.google.com/notebooks/data_table.ipynb>data table notebook</a>'\n",
              "          + ' to learn more about interactive tables.';\n",
              "        element.innerHTML = '';\n",
              "        dataTable['output_type'] = 'display_data';\n",
              "        await google.colab.output.renderOutput(dataTable, element);\n",
              "        const docLink = document.createElement('div');\n",
              "        docLink.innerHTML = docLinkHtml;\n",
              "        element.appendChild(docLink);\n",
              "      }\n",
              "    </script>\n",
              "  </div>\n",
              "\n",
              "\n",
              "    </div>\n",
              "  </div>\n"
            ],
            "text/plain": [
              "                   app_id                                           app_json  \\\n",
              "0  Chain1_ChatApplication  {\"app_id\": \"Chain1_ChatApplication\", \"tags\": \"...   \n",
              "\n",
              "                             type  \\\n",
              "0  LLMChain(langchain.chains.llm)   \n",
              "\n",
              "                                      record_id  \\\n",
              "0  record_hash_0d331e4479bf5a18a21ab49cd4bc61f7   \n",
              "\n",
              "                                               input  \\\n",
              "0  \"\\u062f\\u0643\\u062a\\u0640\\u0648\\u0631\\n\\u0645\\...   \n",
              "\n",
              "                                              output tags  \\\n",
              "0  \" ```python\\n{\\n    \\\"Lubricant Eye Drops E.D....    -   \n",
              "\n",
              "                                         record_json  \\\n",
              "0  {\"record_id\": \"record_hash_0d331e4479bf5a18a21...   \n",
              "\n",
              "                                           cost_json  \\\n",
              "0  {\"n_requests\": 0, \"n_successful_requests\": 0, ...   \n",
              "\n",
              "                                           perf_json  \\\n",
              "0  {\"start_time\": \"2023-12-07T22:09:46.968724\", \"...   \n",
              "\n",
              "                           ts  relevance_with_cot_reasons  \\\n",
              "0  2023-12-07T22:09:49.136758                         1.0   \n",
              "\n",
              "                    relevance_with_cot_reasons_calls  latency  total_tokens  \\\n",
              "0  [{'args': {'prompt': 'دكتـور\n",
              "معـاذ عطيتـو\n",
              "طبيب...        2             0   \n",
              "\n",
              "   total_cost  \n",
              "0         0.0  "
            ]
          },
          "execution_count": 94,
          "metadata": {},
          "output_type": "execute_result"
        }
      ],
      "source": [
        "tru.get_records_and_feedback(app_ids=[])[0] # pass an empty list of app_ids to get all"
      ]
    },
    {
      "cell_type": "code",
      "execution_count": null,
      "metadata": {
        "id": "laM1gEd0V9ak"
      },
      "outputs": [],
      "source": []
    }
  ],
  "metadata": {
    "colab": {
      "provenance": []
    },
    "kernelspec": {
      "display_name": "Python 3",
      "name": "python3"
    },
    "language_info": {
      "name": "python"
    },
    "widgets": {
      "application/vnd.jupyter.widget-state+json": {
        "484603030d544fef85f85ddc3684861f": {
          "model_module": "@jupyter-widgets/controls",
          "model_name": "HBoxModel",
          "model_module_version": "2.0.0",
          "state": {
            "_dom_classes": [],
            "_model_module": "@jupyter-widgets/controls",
            "_model_module_version": "2.0.0",
            "_model_name": "HBoxModel",
            "_view_count": null,
            "_view_module": "@jupyter-widgets/controls",
            "_view_module_version": "2.0.0",
            "_view_name": "HBoxView",
            "box_style": "",
            "children": [
              "IPY_MODEL_412c1c1955144b57bc41aaf3a9ba14ae",
              "IPY_MODEL_4c691d4e88fb4341b9afba58224e1a24",
              "IPY_MODEL_c4cf6549ba614f17ac3ce7da4fc04fe3"
            ],
            "layout": "IPY_MODEL_df308612262e4a6ca2028fb8a259cab2",
            "tabbable": null,
            "tooltip": null
          }
        },
        "412c1c1955144b57bc41aaf3a9ba14ae": {
          "model_module": "@jupyter-widgets/controls",
          "model_name": "HTMLModel",
          "model_module_version": "2.0.0",
          "state": {
            "_dom_classes": [],
            "_model_module": "@jupyter-widgets/controls",
            "_model_module_version": "2.0.0",
            "_model_name": "HTMLModel",
            "_view_count": null,
            "_view_module": "@jupyter-widgets/controls",
            "_view_module_version": "2.0.0",
            "_view_name": "HTMLView",
            "description": "",
            "description_allow_html": false,
            "layout": "IPY_MODEL_a29918ef200d4a1c878edad8b22f1047",
            "placeholder": "​",
            "style": "IPY_MODEL_1ad3bbfdc3f24f7ba7d82075174caaef",
            "tabbable": null,
            "tooltip": null,
            "value": "100%"
          }
        },
        "4c691d4e88fb4341b9afba58224e1a24": {
          "model_module": "@jupyter-widgets/controls",
          "model_name": "FloatProgressModel",
          "model_module_version": "2.0.0",
          "state": {
            "_dom_classes": [],
            "_model_module": "@jupyter-widgets/controls",
            "_model_module_version": "2.0.0",
            "_model_name": "FloatProgressModel",
            "_view_count": null,
            "_view_module": "@jupyter-widgets/controls",
            "_view_module_version": "2.0.0",
            "_view_name": "ProgressView",
            "bar_style": "success",
            "description": "",
            "description_allow_html": false,
            "layout": "IPY_MODEL_889698d019bb4102a4015cc7ffc0fde8",
            "max": 1,
            "min": 0,
            "orientation": "horizontal",
            "style": "IPY_MODEL_a8ac5a9119eb4d068687165b2c1848b3",
            "tabbable": null,
            "tooltip": null,
            "value": 1
          }
        },
        "c4cf6549ba614f17ac3ce7da4fc04fe3": {
          "model_module": "@jupyter-widgets/controls",
          "model_name": "HTMLModel",
          "model_module_version": "2.0.0",
          "state": {
            "_dom_classes": [],
            "_model_module": "@jupyter-widgets/controls",
            "_model_module_version": "2.0.0",
            "_model_name": "HTMLModel",
            "_view_count": null,
            "_view_module": "@jupyter-widgets/controls",
            "_view_module_version": "2.0.0",
            "_view_name": "HTMLView",
            "description": "",
            "description_allow_html": false,
            "layout": "IPY_MODEL_04946011e1e848b2aceac62fe614d4ad",
            "placeholder": "​",
            "style": "IPY_MODEL_b56dc83e255f40e890687775777909f9",
            "tabbable": null,
            "tooltip": null,
            "value": " 1/1 [00:03&lt;00:00,  3.05s/it]"
          }
        },
        "df308612262e4a6ca2028fb8a259cab2": {
          "model_module": "@jupyter-widgets/base",
          "model_name": "LayoutModel",
          "model_module_version": "2.0.0",
          "state": {
            "_model_module": "@jupyter-widgets/base",
            "_model_module_version": "2.0.0",
            "_model_name": "LayoutModel",
            "_view_count": null,
            "_view_module": "@jupyter-widgets/base",
            "_view_module_version": "2.0.0",
            "_view_name": "LayoutView",
            "align_content": null,
            "align_items": null,
            "align_self": null,
            "border_bottom": null,
            "border_left": null,
            "border_right": null,
            "border_top": null,
            "bottom": null,
            "display": null,
            "flex": null,
            "flex_flow": null,
            "grid_area": null,
            "grid_auto_columns": null,
            "grid_auto_flow": null,
            "grid_auto_rows": null,
            "grid_column": null,
            "grid_gap": null,
            "grid_row": null,
            "grid_template_areas": null,
            "grid_template_columns": null,
            "grid_template_rows": null,
            "height": null,
            "justify_content": null,
            "justify_items": null,
            "left": null,
            "margin": null,
            "max_height": null,
            "max_width": null,
            "min_height": null,
            "min_width": null,
            "object_fit": null,
            "object_position": null,
            "order": null,
            "overflow": null,
            "padding": null,
            "right": null,
            "top": null,
            "visibility": null,
            "width": null
          }
        },
        "a29918ef200d4a1c878edad8b22f1047": {
          "model_module": "@jupyter-widgets/base",
          "model_name": "LayoutModel",
          "model_module_version": "2.0.0",
          "state": {
            "_model_module": "@jupyter-widgets/base",
            "_model_module_version": "2.0.0",
            "_model_name": "LayoutModel",
            "_view_count": null,
            "_view_module": "@jupyter-widgets/base",
            "_view_module_version": "2.0.0",
            "_view_name": "LayoutView",
            "align_content": null,
            "align_items": null,
            "align_self": null,
            "border_bottom": null,
            "border_left": null,
            "border_right": null,
            "border_top": null,
            "bottom": null,
            "display": null,
            "flex": null,
            "flex_flow": null,
            "grid_area": null,
            "grid_auto_columns": null,
            "grid_auto_flow": null,
            "grid_auto_rows": null,
            "grid_column": null,
            "grid_gap": null,
            "grid_row": null,
            "grid_template_areas": null,
            "grid_template_columns": null,
            "grid_template_rows": null,
            "height": null,
            "justify_content": null,
            "justify_items": null,
            "left": null,
            "margin": null,
            "max_height": null,
            "max_width": null,
            "min_height": null,
            "min_width": null,
            "object_fit": null,
            "object_position": null,
            "order": null,
            "overflow": null,
            "padding": null,
            "right": null,
            "top": null,
            "visibility": null,
            "width": null
          }
        },
        "1ad3bbfdc3f24f7ba7d82075174caaef": {
          "model_module": "@jupyter-widgets/controls",
          "model_name": "HTMLStyleModel",
          "model_module_version": "2.0.0",
          "state": {
            "_model_module": "@jupyter-widgets/controls",
            "_model_module_version": "2.0.0",
            "_model_name": "HTMLStyleModel",
            "_view_count": null,
            "_view_module": "@jupyter-widgets/base",
            "_view_module_version": "2.0.0",
            "_view_name": "StyleView",
            "background": null,
            "description_width": "",
            "font_size": null,
            "text_color": null
          }
        },
        "889698d019bb4102a4015cc7ffc0fde8": {
          "model_module": "@jupyter-widgets/base",
          "model_name": "LayoutModel",
          "model_module_version": "2.0.0",
          "state": {
            "_model_module": "@jupyter-widgets/base",
            "_model_module_version": "2.0.0",
            "_model_name": "LayoutModel",
            "_view_count": null,
            "_view_module": "@jupyter-widgets/base",
            "_view_module_version": "2.0.0",
            "_view_name": "LayoutView",
            "align_content": null,
            "align_items": null,
            "align_self": null,
            "border_bottom": null,
            "border_left": null,
            "border_right": null,
            "border_top": null,
            "bottom": null,
            "display": null,
            "flex": null,
            "flex_flow": null,
            "grid_area": null,
            "grid_auto_columns": null,
            "grid_auto_flow": null,
            "grid_auto_rows": null,
            "grid_column": null,
            "grid_gap": null,
            "grid_row": null,
            "grid_template_areas": null,
            "grid_template_columns": null,
            "grid_template_rows": null,
            "height": null,
            "justify_content": null,
            "justify_items": null,
            "left": null,
            "margin": null,
            "max_height": null,
            "max_width": null,
            "min_height": null,
            "min_width": null,
            "object_fit": null,
            "object_position": null,
            "order": null,
            "overflow": null,
            "padding": null,
            "right": null,
            "top": null,
            "visibility": null,
            "width": null
          }
        },
        "a8ac5a9119eb4d068687165b2c1848b3": {
          "model_module": "@jupyter-widgets/controls",
          "model_name": "ProgressStyleModel",
          "model_module_version": "2.0.0",
          "state": {
            "_model_module": "@jupyter-widgets/controls",
            "_model_module_version": "2.0.0",
            "_model_name": "ProgressStyleModel",
            "_view_count": null,
            "_view_module": "@jupyter-widgets/base",
            "_view_module_version": "2.0.0",
            "_view_name": "StyleView",
            "bar_color": null,
            "description_width": ""
          }
        },
        "04946011e1e848b2aceac62fe614d4ad": {
          "model_module": "@jupyter-widgets/base",
          "model_name": "LayoutModel",
          "model_module_version": "2.0.0",
          "state": {
            "_model_module": "@jupyter-widgets/base",
            "_model_module_version": "2.0.0",
            "_model_name": "LayoutModel",
            "_view_count": null,
            "_view_module": "@jupyter-widgets/base",
            "_view_module_version": "2.0.0",
            "_view_name": "LayoutView",
            "align_content": null,
            "align_items": null,
            "align_self": null,
            "border_bottom": null,
            "border_left": null,
            "border_right": null,
            "border_top": null,
            "bottom": null,
            "display": null,
            "flex": null,
            "flex_flow": null,
            "grid_area": null,
            "grid_auto_columns": null,
            "grid_auto_flow": null,
            "grid_auto_rows": null,
            "grid_column": null,
            "grid_gap": null,
            "grid_row": null,
            "grid_template_areas": null,
            "grid_template_columns": null,
            "grid_template_rows": null,
            "height": null,
            "justify_content": null,
            "justify_items": null,
            "left": null,
            "margin": null,
            "max_height": null,
            "max_width": null,
            "min_height": null,
            "min_width": null,
            "object_fit": null,
            "object_position": null,
            "order": null,
            "overflow": null,
            "padding": null,
            "right": null,
            "top": null,
            "visibility": null,
            "width": null
          }
        },
        "b56dc83e255f40e890687775777909f9": {
          "model_module": "@jupyter-widgets/controls",
          "model_name": "HTMLStyleModel",
          "model_module_version": "2.0.0",
          "state": {
            "_model_module": "@jupyter-widgets/controls",
            "_model_module_version": "2.0.0",
            "_model_name": "HTMLStyleModel",
            "_view_count": null,
            "_view_module": "@jupyter-widgets/base",
            "_view_module_version": "2.0.0",
            "_view_name": "StyleView",
            "background": null,
            "description_width": "",
            "font_size": null,
            "text_color": null
          }
        }
      }
    }
  },
  "nbformat": 4,
  "nbformat_minor": 0
}